{
 "cells": [
  {
   "cell_type": "code",
   "execution_count": 5,
   "metadata": {
    "collapsed": true
   },
   "outputs": [
    {
     "name": "stdout",
     "output_type": "stream",
     "text": [
      "The dotenv extension is already loaded. To reload it, use:\n",
      "  %reload_ext dotenv\n",
      "cannot find .env file\n",
      "/data03/home/gary.wei/projects/evagpt\n",
      "The autoreload extension is already loaded. To reload it, use:\n",
      "  %reload_ext autoreload\n"
     ]
    }
   ],
   "source": [
    "%load_ext dotenv\n",
    "%dotenv\n",
    "\n",
    "import os\n",
    "\n",
    "%cd {os.getenv(\"PROJECT_PATH\") or \"..\"}\n",
    "\n",
    "%load_ext autoreload\n",
    "%autoreload 1\n",
    "\n",
    "from IPython.display import display\n"
   ]
  },
  {
   "cell_type": "code",
   "execution_count": 6,
   "metadata": {
    "collapsed": false
   },
   "outputs": [],
   "source": [
    "import torch\n",
    "import numpy as np\n",
    "import pandas as pd\n",
    "import matplotlib.pyplot as plt\n",
    "\n",
    "import sys\n",
    "from pathlib import Path\n",
    "from absl import logging\n",
    "from tqdm.notebook import tqdm\n",
    "from timeit import default_timer as timer\n",
    "import pickle\n",
    "\n",
    "logging.set_verbosity(logging.INFO)\n"
   ]
  },
  {
   "cell_type": "code",
   "execution_count": 7,
   "metadata": {},
   "outputs": [],
   "source": [
    "from pandarallel import pandarallel\n",
    "\n",
    "pandarallel.initialize(\n",
    "    nb_workers=os.cpu_count(),\n",
    "    progress_bar=True,\n",
    "    verbose=0\n",
    ")\n"
   ]
  },
  {
   "cell_type": "code",
   "execution_count": 8,
   "metadata": {
    "collapsed": false
   },
   "outputs": [],
   "source": [
    "def show_df(df: pd.DataFrame):\n",
    "    display(df.head())\n",
    "    print(df.shape)\n"
   ]
  },
  {
   "cell_type": "code",
   "execution_count": 9,
   "metadata": {
    "collapsed": false
   },
   "outputs": [],
   "source": [
    "from datasets import load_dataset_builder"
   ]
  },
  {
   "cell_type": "code",
   "execution_count": 10,
   "metadata": {},
   "outputs": [
    {
     "data": {
      "application/vnd.jupyter.widget-view+json": {
       "model_id": "2cda4b7ff5c04eec82fbf4d1550e3040",
       "version_major": 2,
       "version_minor": 0
      },
      "text/plain": [
       "README.md:   0%|          | 0.00/10.5k [00:00<?, ?B/s]"
      ]
     },
     "metadata": {},
     "output_type": "display_data"
    }
   ],
   "source": [
    "ds_builder = load_dataset_builder(\"wikitext\", \"wikitext-2-raw-v1\")"
   ]
  },
  {
   "cell_type": "code",
   "execution_count": 12,
   "metadata": {},
   "outputs": [
    {
     "data": {
      "text/plain": [
       "DatasetInfo(description='', citation='', homepage='', license='', features={'text': Value(dtype='string', id=None)}, post_processed=None, supervised_keys=None, builder_name='parquet', dataset_name='wikitext', config_name='wikitext-2-raw-v1', version=0.0.0, splits={'test': SplitInfo(name='test', num_bytes=1305088, num_examples=4358, shard_lengths=None, dataset_name=None), 'train': SplitInfo(name='train', num_bytes=11061717, num_examples=36718, shard_lengths=None, dataset_name=None), 'validation': SplitInfo(name='validation', num_bytes=1159288, num_examples=3760, shard_lengths=None, dataset_name=None)}, download_checksums=None, download_size=7747362, post_processing_size=None, dataset_size=13526093, size_in_bytes=None)"
      ]
     },
     "execution_count": 12,
     "metadata": {},
     "output_type": "execute_result"
    }
   ],
   "source": [
    "ds_builder.info"
   ]
  },
  {
   "cell_type": "code",
   "execution_count": 14,
   "metadata": {},
   "outputs": [
    {
     "data": {
      "application/vnd.jupyter.widget-view+json": {
       "model_id": "119891d7c8434e66834d03f7aaead7b0",
       "version_major": 2,
       "version_minor": 0
      },
      "text/plain": [
       "README.md:   0%|          | 0.00/7.46k [00:00<?, ?B/s]"
      ]
     },
     "metadata": {},
     "output_type": "display_data"
    },
    {
     "data": {
      "application/vnd.jupyter.widget-view+json": {
       "model_id": "7c475d73aa9d4ae4a4165146eac551e8",
       "version_major": 2,
       "version_minor": 0
      },
      "text/plain": [
       "train.parquet:   0%|          | 0.00/699k [00:00<?, ?B/s]"
      ]
     },
     "metadata": {},
     "output_type": "display_data"
    },
    {
     "data": {
      "application/vnd.jupyter.widget-view+json": {
       "model_id": "6ff939528bb74bf7aa4aeb0d7edcb31f",
       "version_major": 2,
       "version_minor": 0
      },
      "text/plain": [
       "validation.parquet:   0%|          | 0.00/90.0k [00:00<?, ?B/s]"
      ]
     },
     "metadata": {},
     "output_type": "display_data"
    },
    {
     "data": {
      "application/vnd.jupyter.widget-view+json": {
       "model_id": "42a86fe8fa5b4f1fb8c9ae5795151028",
       "version_major": 2,
       "version_minor": 0
      },
      "text/plain": [
       "test.parquet:   0%|          | 0.00/92.2k [00:00<?, ?B/s]"
      ]
     },
     "metadata": {},
     "output_type": "display_data"
    },
    {
     "data": {
      "application/vnd.jupyter.widget-view+json": {
       "model_id": "b11c84d66fbd498381b8bc1de8c16bc4",
       "version_major": 2,
       "version_minor": 0
      },
      "text/plain": [
       "Generating train split:   0%|          | 0/8530 [00:00<?, ? examples/s]"
      ]
     },
     "metadata": {},
     "output_type": "display_data"
    },
    {
     "data": {
      "application/vnd.jupyter.widget-view+json": {
       "model_id": "14a8d4a63fbe4fc4b0e06e69947d8e41",
       "version_major": 2,
       "version_minor": 0
      },
      "text/plain": [
       "Generating validation split:   0%|          | 0/1066 [00:00<?, ? examples/s]"
      ]
     },
     "metadata": {},
     "output_type": "display_data"
    },
    {
     "data": {
      "application/vnd.jupyter.widget-view+json": {
       "model_id": "cf97190a5eb94611a4a67b29a541b4c0",
       "version_major": 2,
       "version_minor": 0
      },
      "text/plain": [
       "Generating test split:   0%|          | 0/1066 [00:00<?, ? examples/s]"
      ]
     },
     "metadata": {},
     "output_type": "display_data"
    }
   ],
   "source": [
    "from datasets import load_dataset\n",
    "\n",
    "dataset = load_dataset(\"cornell-movie-review-data/rotten_tomatoes\", split=\"train\")"
   ]
  },
  {
   "cell_type": "code",
   "execution_count": 15,
   "metadata": {},
   "outputs": [
    {
     "data": {
      "text/plain": [
       "['train', 'validation', 'test']"
      ]
     },
     "execution_count": 15,
     "metadata": {},
     "output_type": "execute_result"
    }
   ],
   "source": [
    "from datasets import get_dataset_split_names\n",
    "\n",
    "get_dataset_split_names(\"cornell-movie-review-data/rotten_tomatoes\")"
   ]
  },
  {
   "cell_type": "code",
   "execution_count": 16,
   "metadata": {},
   "outputs": [
    {
     "data": {
      "text/plain": [
       "Dataset({\n",
       "    features: ['text', 'label'],\n",
       "    num_rows: 8530\n",
       "})"
      ]
     },
     "execution_count": 16,
     "metadata": {},
     "output_type": "execute_result"
    }
   ],
   "source": [
    "dataset"
   ]
  },
  {
   "cell_type": "code",
   "execution_count": 17,
   "metadata": {},
   "outputs": [],
   "source": [
    "dataset = load_dataset(\"cornell-movie-review-data/rotten_tomatoes\")"
   ]
  },
  {
   "cell_type": "code",
   "execution_count": 18,
   "metadata": {},
   "outputs": [
    {
     "data": {
      "application/vnd.jupyter.widget-view+json": {
       "model_id": "668616a3575841a0a9b39e5ecc117e83",
       "version_major": 2,
       "version_minor": 0
      },
      "text/plain": [
       "README.md:   0%|          | 0.00/5.28k [00:00<?, ?B/s]"
      ]
     },
     "metadata": {},
     "output_type": "display_data"
    },
    {
     "data": {
      "application/vnd.jupyter.widget-view+json": {
       "model_id": "7258c8e4de2244efa4d8ab58373f57cf",
       "version_major": 2,
       "version_minor": 0
      },
      "text/plain": [
       "minds14.py:   0%|          | 0.00/5.83k [00:00<?, ?B/s]"
      ]
     },
     "metadata": {},
     "output_type": "display_data"
    },
    {
     "data": {
      "text/plain": [
       "['cs-CZ',\n",
       " 'de-DE',\n",
       " 'en-AU',\n",
       " 'en-GB',\n",
       " 'en-US',\n",
       " 'es-ES',\n",
       " 'fr-FR',\n",
       " 'it-IT',\n",
       " 'ko-KR',\n",
       " 'nl-NL',\n",
       " 'pl-PL',\n",
       " 'pt-PT',\n",
       " 'ru-RU',\n",
       " 'zh-CN',\n",
       " 'all']"
      ]
     },
     "execution_count": 18,
     "metadata": {},
     "output_type": "execute_result"
    }
   ],
   "source": [
    "from datasets import get_dataset_config_names\n",
    "\n",
    "configs = get_dataset_config_names(\"PolyAI/minds14\")\n",
    "configs"
   ]
  },
  {
   "cell_type": "code",
   "execution_count": 20,
   "metadata": {},
   "outputs": [
    {
     "name": "stderr",
     "output_type": "stream",
     "text": [
      "/data03/home/gary.wei/.cache/huggingface/modules/datasets_modules/datasets/c4/584d57ebe81c209b6c7f31727066d2c4b4bba37cb7092cdd83083d5ec11207db/c4.py:53: FutureWarning: Dataset 'c4' is deprecated and will be deleted. Use 'allenai/c4' instead.\n",
      "  warnings.warn(\n"
     ]
    },
    {
     "data": {
      "application/vnd.jupyter.widget-view+json": {
       "model_id": "e455dda2f5324db293ee1e16396d0ca5",
       "version_major": 2,
       "version_minor": 0
      },
      "text/plain": [
       "Downloading data:   0%|          | 0/1024 [00:00<?, ?files/s]"
      ]
     },
     "metadata": {},
     "output_type": "display_data"
    },
    {
     "data": {
      "application/vnd.jupyter.widget-view+json": {
       "model_id": "b8188cd1b3b34af1806d1bea5a978f6e",
       "version_major": 2,
       "version_minor": 0
      },
      "text/plain": [
       "en/c4-train.00000-of-01024.json.gz:   0%|          | 0.00/319M [00:00<?, ?B/s]"
      ]
     },
     "metadata": {},
     "output_type": "display_data"
    },
    {
     "data": {
      "application/vnd.jupyter.widget-view+json": {
       "model_id": "d26a84d02d8e40868ac96a46fdd46dd7",
       "version_major": 2,
       "version_minor": 0
      },
      "text/plain": [
       "en/c4-train.00001-of-01024.json.gz:   0%|          | 0.00/318M [00:00<?, ?B/s]"
      ]
     },
     "metadata": {},
     "output_type": "display_data"
    },
    {
     "data": {
      "application/vnd.jupyter.widget-view+json": {
       "model_id": "53a4e00a418842fa9c35d50ea8fd80a5",
       "version_major": 2,
       "version_minor": 0
      },
      "text/plain": [
       "en/c4-train.00002-of-01024.json.gz:   0%|          | 0.00/320M [00:00<?, ?B/s]"
      ]
     },
     "metadata": {},
     "output_type": "display_data"
    },
    {
     "data": {
      "application/vnd.jupyter.widget-view+json": {
       "model_id": "87ff94ef952e4357be22e34d9d34bdc3",
       "version_major": 2,
       "version_minor": 0
      },
      "text/plain": [
       "en/c4-train.00003-of-01024.json.gz:   0%|          | 0.00/319M [00:00<?, ?B/s]"
      ]
     },
     "metadata": {},
     "output_type": "display_data"
    },
    {
     "data": {
      "application/vnd.jupyter.widget-view+json": {
       "model_id": "d5d0f8f24f8e4c959c990154fdc5b7d4",
       "version_major": 2,
       "version_minor": 0
      },
      "text/plain": [
       "en/c4-train.00004-of-01024.json.gz:   0%|          | 0.00/319M [00:00<?, ?B/s]"
      ]
     },
     "metadata": {},
     "output_type": "display_data"
    },
    {
     "data": {
      "application/vnd.jupyter.widget-view+json": {
       "model_id": "03879d06c1284ffb9ca2389d64d1ac1a",
       "version_major": 2,
       "version_minor": 0
      },
      "text/plain": [
       "en/c4-train.00005-of-01024.json.gz:   0%|          | 0.00/318M [00:00<?, ?B/s]"
      ]
     },
     "metadata": {},
     "output_type": "display_data"
    },
    {
     "data": {
      "application/vnd.jupyter.widget-view+json": {
       "model_id": "bd9000e3a66a4b36aa73de2713b539d5",
       "version_major": 2,
       "version_minor": 0
      },
      "text/plain": [
       "en/c4-train.00006-of-01024.json.gz:   0%|          | 0.00/318M [00:00<?, ?B/s]"
      ]
     },
     "metadata": {},
     "output_type": "display_data"
    },
    {
     "name": "stderr",
     "output_type": "stream",
     "text": [
      "Cancellation requested; stopping current tasks.\n"
     ]
    },
    {
     "data": {
      "application/vnd.jupyter.widget-view+json": {
       "model_id": "bb4354860d3d46d490216925e133f593",
       "version_major": 2,
       "version_minor": 0
      },
      "text/plain": [
       "en/c4-train.00007-of-01024.json.gz:   0%|          | 0.00/318M [00:00<?, ?B/s]"
      ]
     },
     "metadata": {},
     "output_type": "display_data"
    },
    {
     "ename": "KeyboardInterrupt",
     "evalue": "",
     "output_type": "error",
     "traceback": [
      "\u001b[31m---------------------------------------------------------------------------\u001b[39m",
      "\u001b[31mKeyboardInterrupt\u001b[39m                         Traceback (most recent call last)",
      "\u001b[36mCell\u001b[39m\u001b[36m \u001b[39m\u001b[32mIn[20]\u001b[39m\u001b[32m, line 1\u001b[39m\n\u001b[32m----> \u001b[39m\u001b[32m1\u001b[39m c4 = \u001b[43mload_dataset\u001b[49m\u001b[43m(\u001b[49m\u001b[33;43m\"\u001b[39;49m\u001b[33;43mc4\u001b[39;49m\u001b[33;43m\"\u001b[39;49m\u001b[43m,\u001b[49m\u001b[43m \u001b[49m\u001b[33;43m\"\u001b[39;49m\u001b[33;43men\u001b[39;49m\u001b[33;43m\"\u001b[39;49m\u001b[43m,\u001b[49m\u001b[43m \u001b[49m\u001b[43msplit\u001b[49m\u001b[43m=\u001b[49m\u001b[33;43m\"\u001b[39;49m\u001b[33;43mtrain\u001b[39;49m\u001b[33;43m\"\u001b[39;49m\u001b[43m,\u001b[49m\u001b[43m \u001b[49m\u001b[43mtrust_remote_code\u001b[49m\u001b[43m=\u001b[49m\u001b[38;5;28;43;01mTrue\u001b[39;49;00m\u001b[43m)\u001b[49m\n",
      "\u001b[36mFile \u001b[39m\u001b[32m~/.conda/envs/evagpt/lib/python3.12/site-packages/datasets/load.py:2084\u001b[39m, in \u001b[36mload_dataset\u001b[39m\u001b[34m(path, name, data_dir, data_files, split, cache_dir, features, download_config, download_mode, verification_mode, keep_in_memory, save_infos, revision, token, streaming, num_proc, storage_options, trust_remote_code, **config_kwargs)\u001b[39m\n\u001b[32m   2081\u001b[39m     \u001b[38;5;28;01mreturn\u001b[39;00m builder_instance.as_streaming_dataset(split=split)\n\u001b[32m   2083\u001b[39m \u001b[38;5;66;03m# Download and prepare data\u001b[39;00m\n\u001b[32m-> \u001b[39m\u001b[32m2084\u001b[39m \u001b[43mbuilder_instance\u001b[49m\u001b[43m.\u001b[49m\u001b[43mdownload_and_prepare\u001b[49m\u001b[43m(\u001b[49m\n\u001b[32m   2085\u001b[39m \u001b[43m    \u001b[49m\u001b[43mdownload_config\u001b[49m\u001b[43m=\u001b[49m\u001b[43mdownload_config\u001b[49m\u001b[43m,\u001b[49m\n\u001b[32m   2086\u001b[39m \u001b[43m    \u001b[49m\u001b[43mdownload_mode\u001b[49m\u001b[43m=\u001b[49m\u001b[43mdownload_mode\u001b[49m\u001b[43m,\u001b[49m\n\u001b[32m   2087\u001b[39m \u001b[43m    \u001b[49m\u001b[43mverification_mode\u001b[49m\u001b[43m=\u001b[49m\u001b[43mverification_mode\u001b[49m\u001b[43m,\u001b[49m\n\u001b[32m   2088\u001b[39m \u001b[43m    \u001b[49m\u001b[43mnum_proc\u001b[49m\u001b[43m=\u001b[49m\u001b[43mnum_proc\u001b[49m\u001b[43m,\u001b[49m\n\u001b[32m   2089\u001b[39m \u001b[43m    \u001b[49m\u001b[43mstorage_options\u001b[49m\u001b[43m=\u001b[49m\u001b[43mstorage_options\u001b[49m\u001b[43m,\u001b[49m\n\u001b[32m   2090\u001b[39m \u001b[43m\u001b[49m\u001b[43m)\u001b[49m\n\u001b[32m   2092\u001b[39m \u001b[38;5;66;03m# Build dataset for splits\u001b[39;00m\n\u001b[32m   2093\u001b[39m keep_in_memory = (\n\u001b[32m   2094\u001b[39m     keep_in_memory \u001b[38;5;28;01mif\u001b[39;00m keep_in_memory \u001b[38;5;129;01mis\u001b[39;00m \u001b[38;5;129;01mnot\u001b[39;00m \u001b[38;5;28;01mNone\u001b[39;00m \u001b[38;5;28;01melse\u001b[39;00m is_small_dataset(builder_instance.info.dataset_size)\n\u001b[32m   2095\u001b[39m )\n",
      "\u001b[36mFile \u001b[39m\u001b[32m~/.conda/envs/evagpt/lib/python3.12/site-packages/datasets/builder.py:925\u001b[39m, in \u001b[36mDatasetBuilder.download_and_prepare\u001b[39m\u001b[34m(self, output_dir, download_config, download_mode, verification_mode, dl_manager, base_path, file_format, max_shard_size, num_proc, storage_options, **download_and_prepare_kwargs)\u001b[39m\n\u001b[32m    923\u001b[39m \u001b[38;5;28;01mif\u001b[39;00m num_proc \u001b[38;5;129;01mis\u001b[39;00m \u001b[38;5;129;01mnot\u001b[39;00m \u001b[38;5;28;01mNone\u001b[39;00m:\n\u001b[32m    924\u001b[39m     prepare_split_kwargs[\u001b[33m\"\u001b[39m\u001b[33mnum_proc\u001b[39m\u001b[33m\"\u001b[39m] = num_proc\n\u001b[32m--> \u001b[39m\u001b[32m925\u001b[39m \u001b[38;5;28;43mself\u001b[39;49m\u001b[43m.\u001b[49m\u001b[43m_download_and_prepare\u001b[49m\u001b[43m(\u001b[49m\n\u001b[32m    926\u001b[39m \u001b[43m    \u001b[49m\u001b[43mdl_manager\u001b[49m\u001b[43m=\u001b[49m\u001b[43mdl_manager\u001b[49m\u001b[43m,\u001b[49m\n\u001b[32m    927\u001b[39m \u001b[43m    \u001b[49m\u001b[43mverification_mode\u001b[49m\u001b[43m=\u001b[49m\u001b[43mverification_mode\u001b[49m\u001b[43m,\u001b[49m\n\u001b[32m    928\u001b[39m \u001b[43m    \u001b[49m\u001b[43m*\u001b[49m\u001b[43m*\u001b[49m\u001b[43mprepare_split_kwargs\u001b[49m\u001b[43m,\u001b[49m\n\u001b[32m    929\u001b[39m \u001b[43m    \u001b[49m\u001b[43m*\u001b[49m\u001b[43m*\u001b[49m\u001b[43mdownload_and_prepare_kwargs\u001b[49m\u001b[43m,\u001b[49m\n\u001b[32m    930\u001b[39m \u001b[43m\u001b[49m\u001b[43m)\u001b[49m\n\u001b[32m    931\u001b[39m \u001b[38;5;66;03m# Sync info\u001b[39;00m\n\u001b[32m    932\u001b[39m \u001b[38;5;28mself\u001b[39m.info.dataset_size = \u001b[38;5;28msum\u001b[39m(split.num_bytes \u001b[38;5;28;01mfor\u001b[39;00m split \u001b[38;5;129;01min\u001b[39;00m \u001b[38;5;28mself\u001b[39m.info.splits.values())\n",
      "\u001b[36mFile \u001b[39m\u001b[32m~/.conda/envs/evagpt/lib/python3.12/site-packages/datasets/builder.py:1649\u001b[39m, in \u001b[36mGeneratorBasedBuilder._download_and_prepare\u001b[39m\u001b[34m(self, dl_manager, verification_mode, **prepare_splits_kwargs)\u001b[39m\n\u001b[32m   1648\u001b[39m \u001b[38;5;28;01mdef\u001b[39;00m\u001b[38;5;250m \u001b[39m\u001b[34m_download_and_prepare\u001b[39m(\u001b[38;5;28mself\u001b[39m, dl_manager, verification_mode, **prepare_splits_kwargs):\n\u001b[32m-> \u001b[39m\u001b[32m1649\u001b[39m     \u001b[38;5;28;43msuper\u001b[39;49m\u001b[43m(\u001b[49m\u001b[43m)\u001b[49m\u001b[43m.\u001b[49m\u001b[43m_download_and_prepare\u001b[49m\u001b[43m(\u001b[49m\n\u001b[32m   1650\u001b[39m \u001b[43m        \u001b[49m\u001b[43mdl_manager\u001b[49m\u001b[43m,\u001b[49m\n\u001b[32m   1651\u001b[39m \u001b[43m        \u001b[49m\u001b[43mverification_mode\u001b[49m\u001b[43m,\u001b[49m\n\u001b[32m   1652\u001b[39m \u001b[43m        \u001b[49m\u001b[43mcheck_duplicate_keys\u001b[49m\u001b[43m=\u001b[49m\u001b[43mverification_mode\u001b[49m\u001b[43m \u001b[49m\u001b[43m==\u001b[49m\u001b[43m \u001b[49m\u001b[43mVerificationMode\u001b[49m\u001b[43m.\u001b[49m\u001b[43mBASIC_CHECKS\u001b[49m\n\u001b[32m   1653\u001b[39m \u001b[43m        \u001b[49m\u001b[38;5;129;43;01mor\u001b[39;49;00m\u001b[43m \u001b[49m\u001b[43mverification_mode\u001b[49m\u001b[43m \u001b[49m\u001b[43m==\u001b[49m\u001b[43m \u001b[49m\u001b[43mVerificationMode\u001b[49m\u001b[43m.\u001b[49m\u001b[43mALL_CHECKS\u001b[49m\u001b[43m,\u001b[49m\n\u001b[32m   1654\u001b[39m \u001b[43m        \u001b[49m\u001b[43m*\u001b[49m\u001b[43m*\u001b[49m\u001b[43mprepare_splits_kwargs\u001b[49m\u001b[43m,\u001b[49m\n\u001b[32m   1655\u001b[39m \u001b[43m    \u001b[49m\u001b[43m)\u001b[49m\n",
      "\u001b[36mFile \u001b[39m\u001b[32m~/.conda/envs/evagpt/lib/python3.12/site-packages/datasets/builder.py:979\u001b[39m, in \u001b[36mDatasetBuilder._download_and_prepare\u001b[39m\u001b[34m(self, dl_manager, verification_mode, **prepare_split_kwargs)\u001b[39m\n\u001b[32m    977\u001b[39m split_dict = SplitDict(dataset_name=\u001b[38;5;28mself\u001b[39m.dataset_name)\n\u001b[32m    978\u001b[39m split_generators_kwargs = \u001b[38;5;28mself\u001b[39m._make_split_generators_kwargs(prepare_split_kwargs)\n\u001b[32m--> \u001b[39m\u001b[32m979\u001b[39m split_generators = \u001b[38;5;28;43mself\u001b[39;49m\u001b[43m.\u001b[49m\u001b[43m_split_generators\u001b[49m\u001b[43m(\u001b[49m\u001b[43mdl_manager\u001b[49m\u001b[43m,\u001b[49m\u001b[43m \u001b[49m\u001b[43m*\u001b[49m\u001b[43m*\u001b[49m\u001b[43msplit_generators_kwargs\u001b[49m\u001b[43m)\u001b[49m\n\u001b[32m    981\u001b[39m \u001b[38;5;66;03m# Checksums verification\u001b[39;00m\n\u001b[32m    982\u001b[39m \u001b[38;5;28;01mif\u001b[39;00m verification_mode == VerificationMode.ALL_CHECKS \u001b[38;5;129;01mand\u001b[39;00m dl_manager.record_checksums:\n",
      "\u001b[36mFile \u001b[39m\u001b[32m~/.cache/huggingface/modules/datasets_modules/datasets/c4/584d57ebe81c209b6c7f31727066d2c4b4bba37cb7092cdd83083d5ec11207db/c4.py:79\u001b[39m, in \u001b[36mC4._split_generators\u001b[39m\u001b[34m(self, dl_manager)\u001b[39m\n\u001b[32m     74\u001b[39m     n_shards = _N_SHARDS_PER_SPLIT[\u001b[38;5;28mself\u001b[39m.config.name][split]\n\u001b[32m     75\u001b[39m     data_urls[split] = [\n\u001b[32m     76\u001b[39m         _DATA_URL.format(name=\u001b[38;5;28mself\u001b[39m.config.name, split=split, index=index, n_shards=n_shards)\n\u001b[32m     77\u001b[39m         \u001b[38;5;28;01mfor\u001b[39;00m index \u001b[38;5;129;01min\u001b[39;00m \u001b[38;5;28mrange\u001b[39m(n_shards)\n\u001b[32m     78\u001b[39m     ]\n\u001b[32m---> \u001b[39m\u001b[32m79\u001b[39m train_downloaded_files = \u001b[43mdl_manager\u001b[49m\u001b[43m.\u001b[49m\u001b[43mdownload\u001b[49m\u001b[43m(\u001b[49m\u001b[43mdata_urls\u001b[49m\u001b[43m[\u001b[49m\u001b[33;43m\"\u001b[39;49m\u001b[33;43mtrain\u001b[39;49m\u001b[33;43m\"\u001b[39;49m\u001b[43m]\u001b[49m\u001b[43m)\u001b[49m\n\u001b[32m     80\u001b[39m validation_downloaded_files = dl_manager.download(data_urls[\u001b[33m\"\u001b[39m\u001b[33mvalidation\u001b[39m\u001b[33m\"\u001b[39m])\n\u001b[32m     81\u001b[39m \u001b[38;5;28;01mreturn\u001b[39;00m [\n\u001b[32m     82\u001b[39m     datasets.SplitGenerator(name=datasets.Split.TRAIN, gen_kwargs={\u001b[33m\"\u001b[39m\u001b[33mfilepaths\u001b[39m\u001b[33m\"\u001b[39m: train_downloaded_files}),\n\u001b[32m     83\u001b[39m     datasets.SplitGenerator(\n\u001b[32m     84\u001b[39m         name=datasets.Split.VALIDATION, gen_kwargs={\u001b[33m\"\u001b[39m\u001b[33mfilepaths\u001b[39m\u001b[33m\"\u001b[39m: validation_downloaded_files}\n\u001b[32m     85\u001b[39m     ),\n\u001b[32m     86\u001b[39m ]\n",
      "\u001b[36mFile \u001b[39m\u001b[32m~/.conda/envs/evagpt/lib/python3.12/site-packages/datasets/download/download_manager.py:159\u001b[39m, in \u001b[36mDownloadManager.download\u001b[39m\u001b[34m(self, url_or_urls)\u001b[39m\n\u001b[32m    157\u001b[39m start_time = datetime.now()\n\u001b[32m    158\u001b[39m \u001b[38;5;28;01mwith\u001b[39;00m stack_multiprocessing_download_progress_bars():\n\u001b[32m--> \u001b[39m\u001b[32m159\u001b[39m     downloaded_path_or_paths = \u001b[43mmap_nested\u001b[49m\u001b[43m(\u001b[49m\n\u001b[32m    160\u001b[39m \u001b[43m        \u001b[49m\u001b[43mdownload_func\u001b[49m\u001b[43m,\u001b[49m\n\u001b[32m    161\u001b[39m \u001b[43m        \u001b[49m\u001b[43murl_or_urls\u001b[49m\u001b[43m,\u001b[49m\n\u001b[32m    162\u001b[39m \u001b[43m        \u001b[49m\u001b[43mmap_tuple\u001b[49m\u001b[43m=\u001b[49m\u001b[38;5;28;43;01mTrue\u001b[39;49;00m\u001b[43m,\u001b[49m\n\u001b[32m    163\u001b[39m \u001b[43m        \u001b[49m\u001b[43mnum_proc\u001b[49m\u001b[43m=\u001b[49m\u001b[43mdownload_config\u001b[49m\u001b[43m.\u001b[49m\u001b[43mnum_proc\u001b[49m\u001b[43m,\u001b[49m\n\u001b[32m    164\u001b[39m \u001b[43m        \u001b[49m\u001b[43mdesc\u001b[49m\u001b[43m=\u001b[49m\u001b[33;43m\"\u001b[39;49m\u001b[33;43mDownloading data files\u001b[39;49m\u001b[33;43m\"\u001b[39;49m\u001b[43m,\u001b[49m\n\u001b[32m    165\u001b[39m \u001b[43m        \u001b[49m\u001b[43mbatched\u001b[49m\u001b[43m=\u001b[49m\u001b[38;5;28;43;01mTrue\u001b[39;49;00m\u001b[43m,\u001b[49m\n\u001b[32m    166\u001b[39m \u001b[43m        \u001b[49m\u001b[43mbatch_size\u001b[49m\u001b[43m=\u001b[49m\u001b[43m-\u001b[49m\u001b[32;43m1\u001b[39;49m\u001b[43m,\u001b[49m\n\u001b[32m    167\u001b[39m \u001b[43m    \u001b[49m\u001b[43m)\u001b[49m\n\u001b[32m    168\u001b[39m duration = datetime.now() - start_time\n\u001b[32m    169\u001b[39m logger.info(\u001b[33mf\u001b[39m\u001b[33m\"\u001b[39m\u001b[33mDownloading took \u001b[39m\u001b[38;5;132;01m{\u001b[39;00mduration.total_seconds()\u001b[38;5;250m \u001b[39m//\u001b[38;5;250m \u001b[39m\u001b[32m60\u001b[39m\u001b[38;5;132;01m}\u001b[39;00m\u001b[33m min\u001b[39m\u001b[33m\"\u001b[39m)\n",
      "\u001b[36mFile \u001b[39m\u001b[32m~/.conda/envs/evagpt/lib/python3.12/site-packages/datasets/utils/py_utils.py:522\u001b[39m, in \u001b[36mmap_nested\u001b[39m\u001b[34m(function, data_struct, dict_only, map_list, map_tuple, map_numpy, num_proc, parallel_min_length, batched, batch_size, types, disable_tqdm, desc)\u001b[39m\n\u001b[32m    519\u001b[39m         batch_size = \u001b[38;5;28mmax\u001b[39m(\u001b[38;5;28mlen\u001b[39m(iterable) // num_proc + \u001b[38;5;28mint\u001b[39m(\u001b[38;5;28mlen\u001b[39m(iterable) % num_proc > \u001b[32m0\u001b[39m), \u001b[32m1\u001b[39m)\n\u001b[32m    520\u001b[39m     iterable = \u001b[38;5;28mlist\u001b[39m(iter_batched(iterable, batch_size))\n\u001b[32m    521\u001b[39m mapped = [\n\u001b[32m--> \u001b[39m\u001b[32m522\u001b[39m     \u001b[43m_single_map_nested\u001b[49m\u001b[43m(\u001b[49m\u001b[43m(\u001b[49m\u001b[43mfunction\u001b[49m\u001b[43m,\u001b[49m\u001b[43m \u001b[49m\u001b[43mobj\u001b[49m\u001b[43m,\u001b[49m\u001b[43m \u001b[49m\u001b[43mbatched\u001b[49m\u001b[43m,\u001b[49m\u001b[43m \u001b[49m\u001b[43mbatch_size\u001b[49m\u001b[43m,\u001b[49m\u001b[43m \u001b[49m\u001b[43mtypes\u001b[49m\u001b[43m,\u001b[49m\u001b[43m \u001b[49m\u001b[38;5;28;43;01mNone\u001b[39;49;00m\u001b[43m,\u001b[49m\u001b[43m \u001b[49m\u001b[38;5;28;43;01mTrue\u001b[39;49;00m\u001b[43m,\u001b[49m\u001b[43m \u001b[49m\u001b[38;5;28;43;01mNone\u001b[39;49;00m\u001b[43m)\u001b[49m\u001b[43m)\u001b[49m\n\u001b[32m    523\u001b[39m     \u001b[38;5;28;01mfor\u001b[39;00m obj \u001b[38;5;129;01min\u001b[39;00m hf_tqdm(iterable, disable=disable_tqdm, desc=desc)\n\u001b[32m    524\u001b[39m ]\n\u001b[32m    525\u001b[39m \u001b[38;5;28;01mif\u001b[39;00m batched:\n\u001b[32m    526\u001b[39m     mapped = [mapped_item \u001b[38;5;28;01mfor\u001b[39;00m mapped_batch \u001b[38;5;129;01min\u001b[39;00m mapped \u001b[38;5;28;01mfor\u001b[39;00m mapped_item \u001b[38;5;129;01min\u001b[39;00m mapped_batch]\n",
      "\u001b[36mFile \u001b[39m\u001b[32m~/.conda/envs/evagpt/lib/python3.12/site-packages/datasets/utils/py_utils.py:390\u001b[39m, in \u001b[36m_single_map_nested\u001b[39m\u001b[34m(args)\u001b[39m\n\u001b[32m    383\u001b[39m         \u001b[38;5;28;01mreturn\u001b[39;00m function(data_struct)\n\u001b[32m    384\u001b[39m \u001b[38;5;28;01mif\u001b[39;00m (\n\u001b[32m    385\u001b[39m     batched\n\u001b[32m    386\u001b[39m     \u001b[38;5;129;01mand\u001b[39;00m \u001b[38;5;129;01mnot\u001b[39;00m \u001b[38;5;28misinstance\u001b[39m(data_struct, \u001b[38;5;28mdict\u001b[39m)\n\u001b[32m    387\u001b[39m     \u001b[38;5;129;01mand\u001b[39;00m \u001b[38;5;28misinstance\u001b[39m(data_struct, types)\n\u001b[32m    388\u001b[39m     \u001b[38;5;129;01mand\u001b[39;00m \u001b[38;5;28mall\u001b[39m(\u001b[38;5;129;01mnot\u001b[39;00m \u001b[38;5;28misinstance\u001b[39m(v, (\u001b[38;5;28mdict\u001b[39m, types)) \u001b[38;5;28;01mfor\u001b[39;00m v \u001b[38;5;129;01min\u001b[39;00m data_struct)\n\u001b[32m    389\u001b[39m ):\n\u001b[32m--> \u001b[39m\u001b[32m390\u001b[39m     \u001b[38;5;28;01mreturn\u001b[39;00m [mapped_item \u001b[38;5;28;01mfor\u001b[39;00m batch \u001b[38;5;129;01min\u001b[39;00m iter_batched(data_struct, batch_size) \u001b[38;5;28;01mfor\u001b[39;00m mapped_item \u001b[38;5;129;01min\u001b[39;00m \u001b[43mfunction\u001b[49m\u001b[43m(\u001b[49m\u001b[43mbatch\u001b[49m\u001b[43m)\u001b[49m]\n\u001b[32m    392\u001b[39m \u001b[38;5;66;03m# Reduce logging to keep things readable in multiprocessing with tqdm\u001b[39;00m\n\u001b[32m    393\u001b[39m \u001b[38;5;28;01mif\u001b[39;00m rank \u001b[38;5;129;01mis\u001b[39;00m \u001b[38;5;129;01mnot\u001b[39;00m \u001b[38;5;28;01mNone\u001b[39;00m \u001b[38;5;129;01mand\u001b[39;00m logging.get_verbosity() < logging.WARNING:\n",
      "\u001b[36mFile \u001b[39m\u001b[32m~/.conda/envs/evagpt/lib/python3.12/site-packages/datasets/download/download_manager.py:206\u001b[39m, in \u001b[36mDownloadManager._download_batched\u001b[39m\u001b[34m(self, url_or_filenames, download_config)\u001b[39m\n\u001b[32m    201\u001b[39m         \u001b[38;5;28;01mpass\u001b[39;00m\n\u001b[32m    202\u001b[39m     max_workers = (\n\u001b[32m    203\u001b[39m         config.HF_DATASETS_MULTITHREADING_MAX_WORKERS \u001b[38;5;28;01mif\u001b[39;00m size < (\u001b[32m20\u001b[39m << \u001b[32m20\u001b[39m) \u001b[38;5;28;01melse\u001b[39;00m \u001b[32m1\u001b[39m\n\u001b[32m    204\u001b[39m     )  \u001b[38;5;66;03m# enable multithreading if files are small\u001b[39;00m\n\u001b[32m--> \u001b[39m\u001b[32m206\u001b[39m     \u001b[38;5;28;01mreturn\u001b[39;00m \u001b[43mthread_map\u001b[49m\u001b[43m(\u001b[49m\n\u001b[32m    207\u001b[39m \u001b[43m        \u001b[49m\u001b[43mdownload_func\u001b[49m\u001b[43m,\u001b[49m\n\u001b[32m    208\u001b[39m \u001b[43m        \u001b[49m\u001b[43murl_or_filenames\u001b[49m\u001b[43m,\u001b[49m\n\u001b[32m    209\u001b[39m \u001b[43m        \u001b[49m\u001b[43mdesc\u001b[49m\u001b[43m=\u001b[49m\u001b[43mdownload_config\u001b[49m\u001b[43m.\u001b[49m\u001b[43mdownload_desc\u001b[49m\u001b[43m \u001b[49m\u001b[38;5;129;43;01mor\u001b[39;49;00m\u001b[43m \u001b[49m\u001b[33;43m\"\u001b[39;49m\u001b[33;43mDownloading\u001b[39;49m\u001b[33;43m\"\u001b[39;49m\u001b[43m,\u001b[49m\n\u001b[32m    210\u001b[39m \u001b[43m        \u001b[49m\u001b[43munit\u001b[49m\u001b[43m=\u001b[49m\u001b[33;43m\"\u001b[39;49m\u001b[33;43mfiles\u001b[39;49m\u001b[33;43m\"\u001b[39;49m\u001b[43m,\u001b[49m\n\u001b[32m    211\u001b[39m \u001b[43m        \u001b[49m\u001b[43mposition\u001b[49m\u001b[43m=\u001b[49m\u001b[43mmultiprocessing\u001b[49m\u001b[43m.\u001b[49m\u001b[43mcurrent_process\u001b[49m\u001b[43m(\u001b[49m\u001b[43m)\u001b[49m\u001b[43m.\u001b[49m\u001b[43m_identity\u001b[49m\u001b[43m[\u001b[49m\u001b[43m-\u001b[49m\u001b[32;43m1\u001b[39;49m\u001b[43m]\u001b[49m\u001b[43m  \u001b[49m\u001b[38;5;66;43;03m# contains the ranks of subprocesses\u001b[39;49;00m\n\u001b[32m    212\u001b[39m \u001b[43m        \u001b[49m\u001b[38;5;28;43;01mif\u001b[39;49;00m\u001b[43m \u001b[49m\u001b[43mos\u001b[49m\u001b[43m.\u001b[49m\u001b[43menviron\u001b[49m\u001b[43m.\u001b[49m\u001b[43mget\u001b[49m\u001b[43m(\u001b[49m\u001b[33;43m\"\u001b[39;49m\u001b[33;43mHF_DATASETS_STACK_MULTIPROCESSING_DOWNLOAD_PROGRESS_BARS\u001b[39;49m\u001b[33;43m\"\u001b[39;49m\u001b[43m)\u001b[49m\u001b[43m \u001b[49m\u001b[43m==\u001b[49m\u001b[43m \u001b[49m\u001b[33;43m\"\u001b[39;49m\u001b[33;43m1\u001b[39;49m\u001b[33;43m\"\u001b[39;49m\n\u001b[32m    213\u001b[39m \u001b[43m        \u001b[49m\u001b[38;5;129;43;01mand\u001b[39;49;00m\u001b[43m \u001b[49m\u001b[43mmultiprocessing\u001b[49m\u001b[43m.\u001b[49m\u001b[43mcurrent_process\u001b[49m\u001b[43m(\u001b[49m\u001b[43m)\u001b[49m\u001b[43m.\u001b[49m\u001b[43m_identity\u001b[49m\n\u001b[32m    214\u001b[39m \u001b[43m        \u001b[49m\u001b[38;5;28;43;01melse\u001b[39;49;00m\u001b[43m \u001b[49m\u001b[38;5;28;43;01mNone\u001b[39;49;00m\u001b[43m,\u001b[49m\n\u001b[32m    215\u001b[39m \u001b[43m        \u001b[49m\u001b[43mmax_workers\u001b[49m\u001b[43m=\u001b[49m\u001b[43mmax_workers\u001b[49m\u001b[43m,\u001b[49m\n\u001b[32m    216\u001b[39m \u001b[43m        \u001b[49m\u001b[43mtqdm_class\u001b[49m\u001b[43m=\u001b[49m\u001b[43mtqdm\u001b[49m\u001b[43m,\u001b[49m\n\u001b[32m    217\u001b[39m \u001b[43m    \u001b[49m\u001b[43m)\u001b[49m\n\u001b[32m    218\u001b[39m \u001b[38;5;28;01melse\u001b[39;00m:\n\u001b[32m    219\u001b[39m     \u001b[38;5;28;01mreturn\u001b[39;00m [\n\u001b[32m    220\u001b[39m         \u001b[38;5;28mself\u001b[39m._download_single(url_or_filename, download_config=download_config)\n\u001b[32m    221\u001b[39m         \u001b[38;5;28;01mfor\u001b[39;00m url_or_filename \u001b[38;5;129;01min\u001b[39;00m url_or_filenames\n\u001b[32m    222\u001b[39m     ]\n",
      "\u001b[36mFile \u001b[39m\u001b[32m~/.conda/envs/evagpt/lib/python3.12/site-packages/tqdm/contrib/concurrent.py:69\u001b[39m, in \u001b[36mthread_map\u001b[39m\u001b[34m(fn, *iterables, **tqdm_kwargs)\u001b[39m\n\u001b[32m     55\u001b[39m \u001b[38;5;250m\u001b[39m\u001b[33;03m\"\"\"\u001b[39;00m\n\u001b[32m     56\u001b[39m \u001b[33;03mEquivalent of `list(map(fn, *iterables))`\u001b[39;00m\n\u001b[32m     57\u001b[39m \u001b[33;03mdriven by `concurrent.futures.ThreadPoolExecutor`.\u001b[39;00m\n\u001b[32m   (...)\u001b[39m\u001b[32m     66\u001b[39m \u001b[33;03m    [default: max(32, cpu_count() + 4)].\u001b[39;00m\n\u001b[32m     67\u001b[39m \u001b[33;03m\"\"\"\u001b[39;00m\n\u001b[32m     68\u001b[39m \u001b[38;5;28;01mfrom\u001b[39;00m\u001b[38;5;250m \u001b[39m\u001b[34;01mconcurrent\u001b[39;00m\u001b[34;01m.\u001b[39;00m\u001b[34;01mfutures\u001b[39;00m\u001b[38;5;250m \u001b[39m\u001b[38;5;28;01mimport\u001b[39;00m ThreadPoolExecutor\n\u001b[32m---> \u001b[39m\u001b[32m69\u001b[39m \u001b[38;5;28;01mreturn\u001b[39;00m \u001b[43m_executor_map\u001b[49m\u001b[43m(\u001b[49m\u001b[43mThreadPoolExecutor\u001b[49m\u001b[43m,\u001b[49m\u001b[43m \u001b[49m\u001b[43mfn\u001b[49m\u001b[43m,\u001b[49m\u001b[43m \u001b[49m\u001b[43m*\u001b[49m\u001b[43miterables\u001b[49m\u001b[43m,\u001b[49m\u001b[43m \u001b[49m\u001b[43m*\u001b[49m\u001b[43m*\u001b[49m\u001b[43mtqdm_kwargs\u001b[49m\u001b[43m)\u001b[49m\n",
      "\u001b[36mFile \u001b[39m\u001b[32m~/.conda/envs/evagpt/lib/python3.12/site-packages/tqdm/contrib/concurrent.py:51\u001b[39m, in \u001b[36m_executor_map\u001b[39m\u001b[34m(PoolExecutor, fn, *iterables, **tqdm_kwargs)\u001b[39m\n\u001b[32m     47\u001b[39m \u001b[38;5;28;01mwith\u001b[39;00m ensure_lock(tqdm_class, lock_name=lock_name) \u001b[38;5;28;01mas\u001b[39;00m lk:\n\u001b[32m     48\u001b[39m     \u001b[38;5;66;03m# share lock in case workers are already using `tqdm`\u001b[39;00m\n\u001b[32m     49\u001b[39m     \u001b[38;5;28;01mwith\u001b[39;00m PoolExecutor(max_workers=max_workers, initializer=tqdm_class.set_lock,\n\u001b[32m     50\u001b[39m                       initargs=(lk,)) \u001b[38;5;28;01mas\u001b[39;00m ex:\n\u001b[32m---> \u001b[39m\u001b[32m51\u001b[39m         \u001b[38;5;28;01mreturn\u001b[39;00m \u001b[38;5;28;43mlist\u001b[39;49m\u001b[43m(\u001b[49m\u001b[43mtqdm_class\u001b[49m\u001b[43m(\u001b[49m\u001b[43mex\u001b[49m\u001b[43m.\u001b[49m\u001b[43mmap\u001b[49m\u001b[43m(\u001b[49m\u001b[43mfn\u001b[49m\u001b[43m,\u001b[49m\u001b[43m \u001b[49m\u001b[43m*\u001b[49m\u001b[43miterables\u001b[49m\u001b[43m,\u001b[49m\u001b[43m \u001b[49m\u001b[43mchunksize\u001b[49m\u001b[43m=\u001b[49m\u001b[43mchunksize\u001b[49m\u001b[43m)\u001b[49m\u001b[43m,\u001b[49m\u001b[43m \u001b[49m\u001b[43m*\u001b[49m\u001b[43m*\u001b[49m\u001b[43mkwargs\u001b[49m\u001b[43m)\u001b[49m\u001b[43m)\u001b[49m\n",
      "\u001b[36mFile \u001b[39m\u001b[32m~/.conda/envs/evagpt/lib/python3.12/site-packages/tqdm/notebook.py:250\u001b[39m, in \u001b[36mtqdm_notebook.__iter__\u001b[39m\u001b[34m(self)\u001b[39m\n\u001b[32m    248\u001b[39m \u001b[38;5;28;01mtry\u001b[39;00m:\n\u001b[32m    249\u001b[39m     it = \u001b[38;5;28msuper\u001b[39m().\u001b[34m__iter__\u001b[39m()\n\u001b[32m--> \u001b[39m\u001b[32m250\u001b[39m \u001b[43m    \u001b[49m\u001b[38;5;28;43;01mfor\u001b[39;49;00m\u001b[43m \u001b[49m\u001b[43mobj\u001b[49m\u001b[43m \u001b[49m\u001b[38;5;129;43;01min\u001b[39;49;00m\u001b[43m \u001b[49m\u001b[43mit\u001b[49m\u001b[43m:\u001b[49m\n\u001b[32m    251\u001b[39m \u001b[43m        \u001b[49m\u001b[38;5;66;43;03m# return super(tqdm...) will not catch exception\u001b[39;49;00m\n\u001b[32m    252\u001b[39m \u001b[43m        \u001b[49m\u001b[38;5;28;43;01myield\u001b[39;49;00m\u001b[43m \u001b[49m\u001b[43mobj\u001b[49m\n\u001b[32m    253\u001b[39m \u001b[38;5;66;03m# NB: except ... [ as ...] breaks IPython async KeyboardInterrupt\u001b[39;00m\n",
      "\u001b[36mFile \u001b[39m\u001b[32m~/.conda/envs/evagpt/lib/python3.12/site-packages/tqdm/std.py:1181\u001b[39m, in \u001b[36mtqdm.__iter__\u001b[39m\u001b[34m(self)\u001b[39m\n\u001b[32m   1178\u001b[39m time = \u001b[38;5;28mself\u001b[39m._time\n\u001b[32m   1180\u001b[39m \u001b[38;5;28;01mtry\u001b[39;00m:\n\u001b[32m-> \u001b[39m\u001b[32m1181\u001b[39m \u001b[43m    \u001b[49m\u001b[38;5;28;43;01mfor\u001b[39;49;00m\u001b[43m \u001b[49m\u001b[43mobj\u001b[49m\u001b[43m \u001b[49m\u001b[38;5;129;43;01min\u001b[39;49;00m\u001b[43m \u001b[49m\u001b[43miterable\u001b[49m\u001b[43m:\u001b[49m\n\u001b[32m   1182\u001b[39m \u001b[43m        \u001b[49m\u001b[38;5;28;43;01myield\u001b[39;49;00m\u001b[43m \u001b[49m\u001b[43mobj\u001b[49m\n\u001b[32m   1183\u001b[39m \u001b[43m        \u001b[49m\u001b[38;5;66;43;03m# Update and possibly print the progressbar.\u001b[39;49;00m\n\u001b[32m   1184\u001b[39m \u001b[43m        \u001b[49m\u001b[38;5;66;43;03m# Note: does not call self.update(1) for speed optimisation.\u001b[39;49;00m\n",
      "\u001b[36mFile \u001b[39m\u001b[32m~/.conda/envs/evagpt/lib/python3.12/concurrent/futures/_base.py:619\u001b[39m, in \u001b[36mExecutor.map.<locals>.result_iterator\u001b[39m\u001b[34m()\u001b[39m\n\u001b[32m    616\u001b[39m \u001b[38;5;28;01mwhile\u001b[39;00m fs:\n\u001b[32m    617\u001b[39m     \u001b[38;5;66;03m# Careful not to keep a reference to the popped future\u001b[39;00m\n\u001b[32m    618\u001b[39m     \u001b[38;5;28;01mif\u001b[39;00m timeout \u001b[38;5;129;01mis\u001b[39;00m \u001b[38;5;28;01mNone\u001b[39;00m:\n\u001b[32m--> \u001b[39m\u001b[32m619\u001b[39m         \u001b[38;5;28;01myield\u001b[39;00m \u001b[43m_result_or_cancel\u001b[49m\u001b[43m(\u001b[49m\u001b[43mfs\u001b[49m\u001b[43m.\u001b[49m\u001b[43mpop\u001b[49m\u001b[43m(\u001b[49m\u001b[43m)\u001b[49m\u001b[43m)\u001b[49m\n\u001b[32m    620\u001b[39m     \u001b[38;5;28;01melse\u001b[39;00m:\n\u001b[32m    621\u001b[39m         \u001b[38;5;28;01myield\u001b[39;00m _result_or_cancel(fs.pop(), end_time - time.monotonic())\n",
      "\u001b[36mFile \u001b[39m\u001b[32m~/.conda/envs/evagpt/lib/python3.12/concurrent/futures/_base.py:317\u001b[39m, in \u001b[36m_result_or_cancel\u001b[39m\u001b[34m(***failed resolving arguments***)\u001b[39m\n\u001b[32m    315\u001b[39m \u001b[38;5;28;01mtry\u001b[39;00m:\n\u001b[32m    316\u001b[39m     \u001b[38;5;28;01mtry\u001b[39;00m:\n\u001b[32m--> \u001b[39m\u001b[32m317\u001b[39m         \u001b[38;5;28;01mreturn\u001b[39;00m \u001b[43mfut\u001b[49m\u001b[43m.\u001b[49m\u001b[43mresult\u001b[49m\u001b[43m(\u001b[49m\u001b[43mtimeout\u001b[49m\u001b[43m)\u001b[49m\n\u001b[32m    318\u001b[39m     \u001b[38;5;28;01mfinally\u001b[39;00m:\n\u001b[32m    319\u001b[39m         fut.cancel()\n",
      "\u001b[36mFile \u001b[39m\u001b[32m~/.conda/envs/evagpt/lib/python3.12/concurrent/futures/_base.py:451\u001b[39m, in \u001b[36mFuture.result\u001b[39m\u001b[34m(self, timeout)\u001b[39m\n\u001b[32m    448\u001b[39m \u001b[38;5;28;01melif\u001b[39;00m \u001b[38;5;28mself\u001b[39m._state == FINISHED:\n\u001b[32m    449\u001b[39m     \u001b[38;5;28;01mreturn\u001b[39;00m \u001b[38;5;28mself\u001b[39m.__get_result()\n\u001b[32m--> \u001b[39m\u001b[32m451\u001b[39m \u001b[38;5;28;43mself\u001b[39;49m\u001b[43m.\u001b[49m\u001b[43m_condition\u001b[49m\u001b[43m.\u001b[49m\u001b[43mwait\u001b[49m\u001b[43m(\u001b[49m\u001b[43mtimeout\u001b[49m\u001b[43m)\u001b[49m\n\u001b[32m    453\u001b[39m \u001b[38;5;28;01mif\u001b[39;00m \u001b[38;5;28mself\u001b[39m._state \u001b[38;5;129;01min\u001b[39;00m [CANCELLED, CANCELLED_AND_NOTIFIED]:\n\u001b[32m    454\u001b[39m     \u001b[38;5;28;01mraise\u001b[39;00m CancelledError()\n",
      "\u001b[36mFile \u001b[39m\u001b[32m~/.conda/envs/evagpt/lib/python3.12/threading.py:355\u001b[39m, in \u001b[36mCondition.wait\u001b[39m\u001b[34m(self, timeout)\u001b[39m\n\u001b[32m    353\u001b[39m \u001b[38;5;28;01mtry\u001b[39;00m:    \u001b[38;5;66;03m# restore state no matter what (e.g., KeyboardInterrupt)\u001b[39;00m\n\u001b[32m    354\u001b[39m     \u001b[38;5;28;01mif\u001b[39;00m timeout \u001b[38;5;129;01mis\u001b[39;00m \u001b[38;5;28;01mNone\u001b[39;00m:\n\u001b[32m--> \u001b[39m\u001b[32m355\u001b[39m         \u001b[43mwaiter\u001b[49m\u001b[43m.\u001b[49m\u001b[43macquire\u001b[49m\u001b[43m(\u001b[49m\u001b[43m)\u001b[49m\n\u001b[32m    356\u001b[39m         gotit = \u001b[38;5;28;01mTrue\u001b[39;00m\n\u001b[32m    357\u001b[39m     \u001b[38;5;28;01melse\u001b[39;00m:\n",
      "\u001b[31mKeyboardInterrupt\u001b[39m: "
     ]
    }
   ],
   "source": [
    "c4 = load_dataset(\"allenai/c4\", \"en\", split=\"train\", trust_remote_code=True)"
   ]
  },
  {
   "cell_type": "code",
   "execution_count": 21,
   "metadata": {},
   "outputs": [],
   "source": [
    "dataset = load_dataset(\"cornell-movie-review-data/rotten_tomatoes\", split=\"train\")"
   ]
  },
  {
   "cell_type": "code",
   "execution_count": 22,
   "metadata": {},
   "outputs": [
    {
     "data": {
      "text/plain": [
       "{'text': 'the rock is destined to be the 21st century\\'s new \" conan \" and that he\\'s going to make a splash even greater than arnold schwarzenegger , jean-claud van damme or steven segal .',\n",
       " 'label': 1}"
      ]
     },
     "execution_count": 22,
     "metadata": {},
     "output_type": "execute_result"
    }
   ],
   "source": [
    "dataset[0]"
   ]
  },
  {
   "cell_type": "code",
   "execution_count": 23,
   "metadata": {},
   "outputs": [
    {
     "data": {
      "text/plain": [
       "{'text': 'things really get weird , though not particularly scary : the movie is all portent and no content .',\n",
       " 'label': 0}"
      ]
     },
     "execution_count": 23,
     "metadata": {},
     "output_type": "execute_result"
    }
   ],
   "source": [
    "dataset[-1]"
   ]
  },
  {
   "cell_type": "code",
   "execution_count": 24,
   "metadata": {},
   "outputs": [
    {
     "data": {
      "text/plain": [
       "['the rock is destined to be the 21st century\\'s new \" conan \" and that he\\'s going to make a splash even greater than arnold schwarzenegger , jean-claud van damme or steven segal .',\n",
       " 'the gorgeously elaborate continuation of \" the lord of the rings \" trilogy is so huge that a column of words cannot adequately describe co-writer/director peter jackson\\'s expanded vision of j . r . r . tolkien\\'s middle-earth .',\n",
       " 'effective but too-tepid biopic',\n",
       " 'if you sometimes like to go to the movies to have fun , wasabi is a good place to start .',\n",
       " \"emerges as something rare , an issue movie that's so honest and keenly observed that it doesn't feel like one .\",\n",
       " 'the film provides some great insight into the neurotic mindset of all comics -- even those who have reached the absolute top of the game .',\n",
       " 'offers that rare combination of entertainment and education .',\n",
       " 'perhaps no picture ever made has more literally showed that the road to hell is paved with good intentions .',\n",
       " \"steers turns in a snappy screenplay that curls at the edges ; it's so clever you want to hate it . but he somehow pulls it off .\",\n",
       " 'take care of my cat offers a refreshingly different slice of asian cinema .',\n",
       " 'this is a film well worth seeing , talking and singing heads and all .',\n",
       " 'what really surprises about wisegirls is its low-key quality and genuine tenderness .',\n",
       " '( wendigo is ) why we go to the cinema : to be fed through the eye , the heart , the mind .',\n",
       " 'one of the greatest family-oriented , fantasy-adventure movies ever .',\n",
       " 'ultimately , it ponders the reasons we need stories so much .',\n",
       " \"an utterly compelling 'who wrote it' in which the reputation of the most famous author who ever lived comes into question .\",\n",
       " 'illuminating if overly talky documentary .',\n",
       " 'a masterpiece four years in the making .',\n",
       " \"the movie's ripe , enrapturing beauty will tempt those willing to probe its inscrutable mysteries .\",\n",
       " 'offers a breath of the fresh air of true sophistication .',\n",
       " 'a thoughtful , provocative , insistently humanizing film .',\n",
       " 'with a cast that includes some of the top actors working in independent film , lovely & amazing involves us because it is so incisive , so bleakly amusing about how we go about our lives .',\n",
       " 'a disturbing and frighteningly evocative assembly of imagery and hypnotic music composed by philip glass .',\n",
       " \"not for everyone , but for those with whom it will connect , it's a nice departure from standard moviegoing fare .\",\n",
       " 'scores a few points for doing what it does with a dedicated and good-hearted professionalism .',\n",
       " \"occasionally melodramatic , it's also extremely effective .\",\n",
       " 'spiderman rocks',\n",
       " 'an idealistic love story that brings out the latent 15-year-old romantic in everyone .',\n",
       " \"at about 95 minutes , treasure planet maintains a brisk pace as it races through the familiar story . however , it lacks grandeur and that epic quality often associated with stevenson's tale as well as with earlier disney efforts .\",\n",
       " 'it helps that lil bow wow . . . tones down his pint-sized gangsta act to play someone who resembles a real kid .',\n",
       " 'guaranteed to move anyone who ever shook , rattled , or rolled .',\n",
       " 'a masterful film from a master filmmaker , unique in its deceptive grimness , compelling in its fatalist worldview .',\n",
       " 'light , cute and forgettable .',\n",
       " \"if there's a way to effectively teach kids about the dangers of drugs , i think it's in projects like the ( unfortunately r-rated ) paid .\",\n",
       " \"while it would be easy to give crush the new title of two weddings and a funeral , it's a far more thoughtful film than any slice of hugh grant whimsy .\",\n",
       " 'though everything might be literate and smart , it never took off and always seemed static .',\n",
       " \"cantet perfectly captures the hotel lobbies , two-lane highways , and roadside cafes that permeate vincent's days\",\n",
       " 'ms . fulford-wierzbicki is almost spooky in her sulky , calculating lolita turn .',\n",
       " 'though it is by no means his best work , laissez-passer is a distinguished and distinctive effort by a bona-fide master , a fascinating film replete with rewards to be had by all willing to make the effort to reap them .',\n",
       " 'like most bond outings in recent years , some of the stunts are so outlandish that they border on being cartoonlike . a heavy reliance on cgi technology is beginning to creep into the series .',\n",
       " 'newton draws our attention like a magnet , and acts circles around her better known co-star , mark wahlberg .',\n",
       " \"the story loses its bite in a last-minute happy ending that's even less plausible than the rest of the picture . much of the way , though , this is a refreshingly novel ride .\",\n",
       " 'fuller would surely have called this gutsy and at times exhilarating movie a great yarn .',\n",
       " \"'compleja e intelectualmente retadora , el ladrón de orquídeas es uno de esos filmes que vale la pena ver precisamente por su originalidad . '\",\n",
       " 'the film makes a strong case for the importance of the musicians in creating the motown sound .',\n",
       " 'karmen moves like rhythm itself , her lips chanting to the beat , her long , braided hair doing little to wipe away the jeweled beads of sweat .',\n",
       " 'gosling provides an amazing performance that dwarfs everything else in the film .',\n",
       " \"a real movie , about real people , that gives us a rare glimpse into a culture most of us don't know .\",\n",
       " 'tender yet lacerating and darkly funny fable .',\n",
       " \"may be spoofing an easy target -- those old '50's giant creature features -- but . . . it acknowledges and celebrates their cheesiness as the reason why people get a kick out of watching them today .\",\n",
       " \"an engaging overview of johnson's eccentric career .\",\n",
       " 'in its ragged , cheap and unassuming way , the movie works .',\n",
       " \"some actors have so much charisma that you'd be happy to listen to them reading the phone book . hugh grant and sandra bullock are two such likeable actors .\",\n",
       " 'sandra nettelbeck beautifully orchestrates the transformation of the chilly , neurotic , and self-absorbed martha as her heart begins to open .',\n",
       " 'behind the snow games and lovable siberian huskies ( plus one sheep dog ) , the picture hosts a parka-wrapped dose of heart .',\n",
       " 'everytime you think undercover brother has run out of steam , it finds a new way to surprise and amuse .',\n",
       " 'manages to be original , even though it rips off many of its ideas .',\n",
       " 'singer/composer bryan adams contributes a slew of songs \\x97 a few potential hits , a few more simply intrusive to the story \\x97 but the whole package certainly captures the intended , er , spirit of the piece .',\n",
       " \"you'd think by now america would have had enough of plucky british eccentrics with hearts of gold . yet the act is still charming here .\",\n",
       " 'whether or not you\\'re enlightened by any of derrida\\'s lectures on \" the other \" and \" the self , \" derrida is an undeniably fascinating and playful fellow .',\n",
       " 'a pleasant enough movie , held together by skilled ensemble actors .',\n",
       " \"this is the best american movie about troubled teens since 1998's whatever .\",\n",
       " \"disney has always been hit-or-miss when bringing beloved kids' books to the screen . . . tuck everlasting is a little of both .\",\n",
       " 'just the labour involved in creating the layered richness of the imagery in this chiaroscuro of madness and light is astonishing .',\n",
       " 'the animated subplot keenly depicts the inner struggles of our adolescent heroes - insecure , uncontrolled , and intense .',\n",
       " 'the invincible werner herzog is alive and well and living in la',\n",
       " 'morton is a great actress portraying a complex character , but morvern callar grows less compelling the farther it meanders from its shocking start .',\n",
       " 'part of the charm of satin rouge is that it avoids the obvious with humour and lightness .',\n",
       " 'son of the bride may be a good half-hour too long but comes replete with a flattering sense of mystery and quietness .',\n",
       " 'a simmering psychological drama in which the bursts of sudden violence are all the more startling for the slow buildup that has preceded them .',\n",
       " 'a taut , intelligent psychological drama .',\n",
       " \"a compelling coming-of-age drama about the arduous journey of a sensitive young girl through a series of foster homes and a fierce struggle to pull free from her dangerous and domineering mother's hold over her .\",\n",
       " 'a truly moving experience , and a perfect example of how art -- when done right -- can help heal , clarify , and comfort .',\n",
       " 'this delicately observed story , deeply felt and masterfully stylized , is a triumph for its maverick director .',\n",
       " 'at heart the movie is a deftly wrought suspense yarn whose richer shadings work as coloring rather than substance .',\n",
       " \"the appearance of treebeard and gollum's expanded role will either have you loving what you're seeing , or rolling your eyes . i loved it ! gollum's 'performance' is incredible !\",\n",
       " 'a screenplay more ingeniously constructed than \" memento \"',\n",
       " \"if this movie were a book , it would be a page-turner , you can't wait to see what happens next .\",\n",
       " 'haneke challenges us to confront the reality of sexual aberration .',\n",
       " 'absorbing and disturbing -- perhaps more disturbing than originally intended -- but a little clarity would have gone a long way .',\n",
       " \"it's the best film of the year so far , the benchmark against which all other best picture contenders should be measured .\",\n",
       " \"painful to watch , but viewers willing to take a chance will be rewarded with two of the year's most accomplished and riveting film performances .\",\n",
       " 'this is a startling film that gives you a fascinating , albeit depressing view of iranian rural life close to the iraqi border .',\n",
       " 'an imaginative comedy/thriller .',\n",
       " 'a few artsy flourishes aside , narc is as gritty as a movie gets these days .',\n",
       " 'while the isle is both preposterous and thoroughly misogynistic , its vistas are incredibly beautiful to look at .',\n",
       " \"together , tok and o orchestrate a buoyant , darkly funny dance of death . in the process , they demonstrate that there's still a lot of life in hong kong cinema .\",\n",
       " 'director kapur is a filmmaker with a real flair for epic landscapes and adventure , and this is a better film than his earlier english-language movie , the overpraised elizabeth .',\n",
       " 'the movie is a blast of educational energy , as bouncy animation and catchy songs escort you through the entire 85 minutes .',\n",
       " \"a sports movie with action that's exciting on the field and a story you care about off it .\",\n",
       " \"doug liman , the director of bourne , directs the traffic well , gets a nice wintry look from his locations , absorbs us with the movie's spycraft and uses damon's ability to be focused and sincere .\",\n",
       " 'the tenderness of the piece is still intact .',\n",
       " 'katz uses archival footage , horrifying documents of lynchings , still photographs and charming old reel-to-reel recordings of meeropol entertaining his children to create his song history , but most powerful of all is the song itself',\n",
       " \"like the film's almost anthropologically detailed realization of early-'80s suburbia , it's significant without being overstated .\",\n",
       " \"while mcfarlane's animation lifts the film firmly above the level of other coming-of-age films . . . it's also so jarring that it's hard to get back into the boys' story .\",\n",
       " 'if nothing else , this movie introduces a promising , unusual kind of psychological horror .',\n",
       " 'in a normal screen process , these bromides would be barely enough to sustain an interstitial program on the discovery channel . but in imax 3-d , the clichés disappear into the vertiginous perspectives opened up by the photography .',\n",
       " 'writer-director burger imaginatively fans the embers of a dormant national grief and curiosity that has calcified into chronic cynicism and fear .',\n",
       " '. . . a roller-coaster ride of a movie',\n",
       " 'i enjoyed time of favor while i was watching it , but i was surprised at how quickly it faded from my memory .',\n",
       " 'chicago is sophisticated , brash , sardonic , completely joyful in its execution .',\n",
       " \"steve irwin's method is ernest hemmingway at accelerated speed and volume .\",\n",
       " 'a refreshing korean film about five female high school friends who face an uphill battle when they try to take their relationships into deeper waters .',\n",
       " \"on the surface , it's a lovers-on-the-run crime flick , but it has a lot in common with piesiewicz's and kieslowski's earlier work , films like the double life of veronique .\",\n",
       " 'the values that have held the enterprise crew together through previous adventures and perils do so again-courage , self-sacrifice and patience under pressure .',\n",
       " \"if it's possible for a sequel to outshine the original , then sl2 does just that .\",\n",
       " 'a romantic comedy that operates by the rules of its own self-contained universe .',\n",
       " \"4 friends , 2 couples , 2000 miles , and all the pabst blue ribbon beer they can drink - it's the ultimate redneck road-trip .\",\n",
       " \"the film is often filled with a sense of pure wonderment and excitement not often seen in today's cinema du sarcasm\",\n",
       " \"it might be tempting to regard mr . andrew and his collaborators as oddballs , but mr . earnhart's quizzical , charming movie allows us to see them , finally , as artists .\",\n",
       " 'a feel-good picture in the best sense of the term .',\n",
       " 'edited and shot with a syncopated style mimicking the work of his subjects , pray turns the idea of the documentary on its head , making it rousing , invigorating fun lacking any mtv puffery .',\n",
       " 'a mostly intelligent , engrossing and psychologically resonant suspenser .',\n",
       " \"it's this memory-as-identity obviation that gives secret life its intermittent unease , reaffirming that long-held illusions are indeed reality , and that erasing them recasts the self .\",\n",
       " \"hip-hop has a history , and it's a metaphor for this love story .\",\n",
       " \"in scope , ambition and accomplishment , children of the century . . . takes kurys' career to a whole new level .\",\n",
       " \"this may not have the dramatic gut-wrenching impact of other holocaust films , but it's a compelling story , mainly because of the way it's told by the people who were there .\",\n",
       " 'between the drama of cube ? s personal revelations regarding what the shop means in the big picture , iconic characters gambol fluidly through the story , with charming results .',\n",
       " 'a gentle , compassionate drama about grief and healing .',\n",
       " 'somewhere short of tremors on the modern b-scene : neither as funny nor as clever , though an agreeably unpretentious way to spend ninety minutes .',\n",
       " 'digital-video documentary about stand-up comedians is a great glimpse into a very different world .',\n",
       " 'unlike most teen flicks , swimming takes its time to tell its story , casts mostly little-known performers in key roles , and introduces some intriguing ambiguity .',\n",
       " \"an enthralling , playful film that constantly frustrates our desire to know the 'truth' about this man , while deconstructing the very format of the biography in a manner that derrida would doubtless give his blessing to .\",\n",
       " '\" extreme ops \" exceeds expectations . good fun , good action , good acting , good dialogue , good pace , good cinematography .',\n",
       " 'you should pay nine bucks for this : because you can hear about suffering afghan refugees on the news and still be unaffected . dramas like this make it human .',\n",
       " 'a thunderous ride at first , quiet cadences of pure finesse are few and far between ; their shortage dilutes the potency of otherwise respectable action . still , this flick is fun , and host to some truly excellent sequences .',\n",
       " \"it's obviously struck a responsive chord with many south koreans , and should work its magic in other parts of the world .\",\n",
       " \"run , don't walk , to see this barbed and bracing comedy on the big screen .\",\n",
       " 'a classy item by a legend who may have nothing left to prove but still has the chops and drive to show how its done .',\n",
       " \"it is nature against progress . in fessenden's horror trilogy , this theme has proved important to him and is especially so in the finale .\",\n",
       " \"it's not exactly a gourmet meal but the fare is fair , even coming from the drive-thru .\",\n",
       " 'this is what imax was made for : strap on a pair of 3-d goggles , shut out the real world , and take a vicarious voyage to the last frontier -- space .',\n",
       " 'merely as a technical , logistical feat , russian ark marks a cinematic milestone .',\n",
       " '[schweiger is] talented and terribly charismatic , qualities essential to both movie stars and social anarchists .',\n",
       " \"it's a great deal of sizzle and very little steak . but what spectacular sizzle it is ! . . . in this incarnation its fizz is infectious .\",\n",
       " 'an original gem about an obsession with time .',\n",
       " 'it will delight newcomers to the story and those who know it from bygone days .',\n",
       " 'gloriously goofy ( and gory ) midnight movie stuff .',\n",
       " 'the film overcomes the regular minefield of coming-of-age cliches with potent doses of honesty and sensitivity .',\n",
       " \"if your senses haven't been dulled by slasher films and gorefests , if you're a connoisseur of psychological horror , this is your ticket .\",\n",
       " \"it's a minor comedy that tries to balance sweetness with coarseness , while it paints a sad picture of the singles scene .\",\n",
       " 'it is intensely personal and yet -- unlike quills -- deftly shows us the temper of the times .',\n",
       " 'as lo-fi as the special effects are , the folks who cobbled nemesis together indulge the force of humanity over hardware in a way that george lucas has long forgotten .',\n",
       " \"like mike doesn't win any points for originality . it does succeed by following a feel-good formula with a winning style , and by offering its target audience of urban kids some welcome role models and optimism .\",\n",
       " \"it's a hoot and a half , and a great way for the american people to see what a candidate is like when he's not giving the same 15-cent stump speech .\",\n",
       " 'far from perfect , but its heart is in the right place . . . innocent and well-meaning .',\n",
       " 'a sad , superior human comedy played out on the back roads of life .',\n",
       " 'waydowntown is by no means a perfect film , but its boasts a huge charm factor and smacks of originality .',\n",
       " 'tim allen is great in his role but never hogs the scenes from his fellow cast , as there are plenty of laughs and good lines for everyone in this comedy .',\n",
       " 'more a load of enjoyable , conan-esque claptrap than the punishing , special-effects soul assaults the mummy pictures represent .',\n",
       " 'enormously likable , partly because it is aware of its own grasp of the absurd .',\n",
       " \"here's a british flick gleefully unconcerned with plausibility , yet just as determined to entertain you .\",\n",
       " \"it's an old story , but a lively script , sharp acting and partially animated interludes make just a kiss seem minty fresh .\",\n",
       " 'must be seen to be believed .',\n",
       " \"ray liotta and jason patric do some of their best work in their underwritten roles , but don't be fooled : nobody deserves any prizes here .\",\n",
       " \"everything that has to do with yvan and charlotte , and everything that has to do with yvan's rambunctious , jewish sister and her non-jew husband , feels funny and true .\",\n",
       " 'sweet home alabama \" is what it is \\x96 a nice , harmless date film . . .',\n",
       " \"the year's happiest surprise , a movie that deals with a real subject in an always surprising way .\",\n",
       " \"fans of behan's work and of irish movies in general will be rewarded by borstal boy .\",\n",
       " \"its mysteries are transparently obvious , and it's too slowly paced to be a thriller . [but it's] worth recommending because of two marvelous performances by michael caine and brendan fraser .\",\n",
       " \"the film is faithful to what one presumes are the book's twin premises -- that we become who we are on the backs of our parents , but we have no idea who they were at our age ; and that time is a fleeting and precious commodity no matter how old you are .\",\n",
       " \"stephen earnhart's homespun documentary mule skinner blues has nothing but love for its posse of trailer park denizens .\",\n",
       " 'a solidly seaworthy chiller .',\n",
       " 'if you can get past the fantastical aspects and harsh realities of \" the isle \" you\\'ll get a sock-you-in-the-eye flick that is a visual tour-de-force and a story that is unlike any you will likely see anywhere else .',\n",
       " \"there are as many misses as hits , but ultimately , it finds humor in the foibles of human behavior , and it's a welcome return to the roots of a genre that should depend on surprises .\",\n",
       " 'a well-made thriller with a certain level of intelligence and non-reactionary morality .',\n",
       " \"there's enough science to make it count as educational , and enough beauty to make it unforgettable .\",\n",
       " 'remains a solid , if somewhat heavy-handed , account of the near-disaster . . . done up by howard with a steady , if not very imaginative , hand .',\n",
       " \"makmalbaf follows a resolutely realistic path in this uncompromising insight into the harsh existence of the kurdish refugees of iran's borderlands .\",\n",
       " 'for a good chunk of its running time , trapped is an effective and claustrophobic thriller .',\n",
       " 'most of crush is a clever and captivating romantic comedy with a welcome pinch of tartness .',\n",
       " 'nair does capture the complexity of a big family and its trials and tribulations . . .',\n",
       " 'the seaside splendor and shallow , beautiful people are nice to look at while you wait for the story to get going .',\n",
       " \"rare is the 'urban comedy' that even attempts the insight and honesty of this disarming indie .\",\n",
       " \"ranks among willams' best screen work .\",\n",
       " 'engagingly captures the maddening and magnetic ebb and flow of friendship .',\n",
       " 'an experience so engrossing it is like being buried in a new environment .',\n",
       " \"it's traditional moviemaking all the way , but it's done with a lot of careful period attention as well as some very welcome wit .\",\n",
       " 'thoroughly enjoyable .',\n",
       " \"maybe it's just because this past year has seen the release of some of the worst film comedies in decades . . . but honestly , analyze that really isn't all that bad .\",\n",
       " 'a droll , well-acted , character-driven comedy with unexpected deposits of feeling .',\n",
       " \"this is simply the most fun you'll ever have with a documentary !\",\n",
       " 'a very funny movie .',\n",
       " \"watching haneke's film is , aptly enough , a challenge and a punishment . but watching huppert , a great actress tearing into a landmark role , is riveting .\",\n",
       " 'a cop story that understands the medium amazingly well .',\n",
       " \"one of the best , most understated performances of [jack nicholson's] career .\",\n",
       " 'britney has been delivered to the big screen safe and sound , the way we like our 20-year-old superstar girls to travel on the fame freeway .',\n",
       " \"those outside show business will enjoy a close look at people they don't really want to know .\",\n",
       " 'the kind of nervous film that will either give you a mild headache or exhilarate you .',\n",
       " 'watching beanie and his gang put together his slasher video from spare parts and borrowed materials is as much fun as it must have been for them to make it .',\n",
       " \"children may not understand everything that happens -- i'm not sure even miyazaki himself does -- but they will almost certainly be fascinated , and undoubtedly delighted .\",\n",
       " 'a fascinating and fun film .',\n",
       " 'tadpole is a sophisticated , funny and good-natured treat , slight but a pleasure .',\n",
       " 'this insightful , oscar-nominated documentary , in which children on both sides of the ever-escalating conflict have their say away from watchful parental eyes , gives peace yet another chance .',\n",
       " 'i admired this work a lot .',\n",
       " \"whether you're moved and love it , or bored or frustrated by the film , you'll still feel something .\",\n",
       " '. . . there are enough moments of heartbreaking honesty to keep one glued to the screen .',\n",
       " 'my goodness , queen latifah has a lot to offer and she seemed to have no problem flaunting her natural gifts . she must have a very strong back .',\n",
       " 'a smart , sweet and playful romantic comedy .',\n",
       " 'australian actor/director john polson and award-winning english cinematographer giles nuttgens make a terrific effort at disguising the obvious with energy and innovation .',\n",
       " 'without heavy-handedness , dong provides perspective with his intelligent grasp of human foibles and contradictions .',\n",
       " 'solid , lump-in-the-throat family entertainment that derives its power by sticking to the facts .',\n",
       " 'as an entertainment , the movie keeps you diverted and best of all , it lightens your wallet without leaving a sting .',\n",
       " 'it is interesting and fun to see goodall and her chimpanzees on the bigger-than-life screen .',\n",
       " \"it won't bust your gut -- and it's not intended to -- it's merely a blandly cinematic surgical examination of what makes a joke a joke .\",\n",
       " 'a somewhat crudely constructed but gripping , questing look at a person so racked with self-loathing , he becomes an enemy to his own race .',\n",
       " 'it extends the writings of jean genet and john rechy , the films of fassbinder , perhaps even the nocturnal works of goya .',\n",
       " \"narc may not get an 'a' for originality , but it wears its b-movie heritage like a badge of honor .\",\n",
       " \"with the film's striking ending , one realizes that we have a long way to go before we fully understand all the sexual permutations involved .\",\n",
       " \"[drumline] is entertaining for what it does , and admirable for what it doesn't do .\",\n",
       " 'at its best early on as it plays the culture clashes between the brothers .',\n",
       " '[a] rare , beautiful film .',\n",
       " 'an unabashedly schmaltzy and thoroughly enjoyable true story .',\n",
       " 'a thoughtful look at a painful incident that made headlines in 1995 .',\n",
       " 'you walk out of the good girl with mixed emotions \\x97 disapproval of justine combined with a tinge of understanding for her actions .',\n",
       " 'tsai ming-liang has taken his trademark style and refined it to a crystalline point .',\n",
       " 'purely propaganda , a work of unabashed hero worship , it is nonetheless -- and likely inadvertently -- a timely and invaluable implicit reminder of the role that u . s . foreign policy has played in the rise of castro .',\n",
       " 'now trimmed by about 20 minutes , this lavish three-year-old production has enough grandeur and scale to satisfy as grown-up escapism .',\n",
       " \"we get some truly unique character studies and a cross-section of americana that hollywood couldn't possibly fictionalize and be believed .\",\n",
       " 'though this film can be clumsy , its ambitions are equally -- and admirably -- uncommercial .',\n",
       " 'daring , mesmerizing and exceedingly hard to forget .',\n",
       " \"the dangerous lives of altar boys' take on adolescence feels painfully true .\",\n",
       " \"moore's performance impresses almost as much as her work with haynes in 1995's safe .\",\n",
       " \"visits spy-movie territory like a novel you can't put down , examines a footnote to history seldom brought to light on the screen , and keeps you guessing from first frame to last .\",\n",
       " 'an absorbing , slice-of-depression life that touches nerves and rings true .',\n",
       " 'mr . parker has brilliantly updated his source and grasped its essence , composing a sorrowful and hilarious tone poem about alienated labor , or an absurdist workplace sitcom .',\n",
       " 'the result is something quite fresh and delightful .',\n",
       " 'all but the most persnickety preteens should enjoy this nonthreatening but thrilling adventure .',\n",
       " \"despite its many infuriating flaws -- not the least of which is amy's self-absorbed personality -- amy's o's honesty will win you over .\",\n",
       " \"this is one of polanski's best films .\",\n",
       " 'day is not a great bond movie , but it is a good bond movie , which still makes it much better than your typical bond knock-offs .',\n",
       " 'polished korean political-action film is just as good -- and bad -- as hollywood action epics . is this progress ?',\n",
       " 'elling , portrayed with quiet fastidiousness by per christian ellefsen , is a truly singular character , one whose frailties are only slightly magnified versions of the ones that vex nearly everyone .',\n",
       " \"denis and co-writer michele petin's impeccable screenplay penetrates with a rawness that that is both unflinching and tantalizing . lead provocatuers testud and parmentier give superlative performances\",\n",
       " 'an absorbing trip into the minds and motivations of people under stress as well as a keen , unsentimental look at variations on the theme of motherhood .',\n",
       " 'i admired it , particularly that unexpected downer of an ending .',\n",
       " 'the passions aroused by the discord between old and new cultures are set against the strange , stark beauty of the mideast desert , so lovingly and perceptively filmed that you can almost taste the desiccated air .',\n",
       " 'remarkably accessible and affecting .',\n",
       " 'never mind whether you buy the stuff about barris being a cia hit man . the kooky yet shadowy vision clooney sustains throughout is daring , inventive and impressive .',\n",
       " 'a triumph of art direction over narrative , but what art direction !',\n",
       " \"behan himself knew how to spin a tale and one can't help but think he'd appreciate this attempt to turn his life into art .\",\n",
       " \"jirí hubac's script is a gem . his characters are engaging , intimate and the dialogue is realistic and greatly moving . the scope of the silberstein family is large and we grow attached to their lives , full of strength , warmth and vitality . .\",\n",
       " \"moore's complex and important film is also , believe it or not , immensely entertaining , a david and goliath story that's still very much playing itself out .\",\n",
       " \"the additional storyline is interesting and entertaining , but it doesn't have the same magical quality as the beginning of the story . i like the new footage and still love the old stuff .\",\n",
       " 'though mama takes a bit too long to find its rhythm and a third-act plot development is somewhat melodramatic , its ribald humor and touching nostalgia are sure to please anyone in search of a jules and jim for the new millennium .',\n",
       " \"you might not buy the ideas . but you'll definitely want the t-shirt .\",\n",
       " 'provides an intriguing window into the imagination and hermetic analysis of todd solondz .',\n",
       " 'windtalkers is shapelessly gratifying , the kind of movie that invites you to pick apart its faults even as you have to admit that somehow it hit you where you live .',\n",
       " 'presents an astute appraisal of middle american musical torpor and the desperate struggle to escape it .',\n",
       " 'just what makes us happy , anyway ?',\n",
       " 'a thoughtful , moving piece that faces difficult issues with honesty and beauty .',\n",
       " 'one of the greatest romantic comedies of the past decade .',\n",
       " \"you wouldn't call the good girl a date movie ( an anti-date movie is more like it ) , but when it's good , it's good and horrid .\",\n",
       " \"benefits from a strong performance from zhao , but it's dong jie's face you remember at the end .\",\n",
       " 'this is a film brimming with detail and nuance and one that speaks volumes about the ability of the human spirit to find solace in events that could easily crush it forever .',\n",
       " 'the director , steven shainberg , has succeeded by focusing intently on his characters , making them quirky individuals rather than figures of fun .',\n",
       " \"it ultimately stands forth as an important chronicle of the abuses of one of latin america's most oppressive regimes .\",\n",
       " 'the movie has a soft , percolating magic , a deadpan suspense .',\n",
       " 'a well-made and often lovely depiction of the mysteries of friendship .',\n",
       " 'using his audience as a figurative port-of-call , dong pulls his even-handed ideological ship to their dock for unloading , before he continues his longer journey still ahead .',\n",
       " '. . . understands that a generation defines its music as much as the music defines a generation .',\n",
       " 'the transporter is as lively and as fun as it is unapologetically dumb',\n",
       " \"as a witness to several greek-american weddings -- but , happily , a victim of none -- i can testify to the comparative accuracy of ms . vardalos' memories and insights .\",\n",
       " 'has it ever been possible to say that williams has truly inhabited a character ? it is now .',\n",
       " \"by presenting an impossible romance in an impossible world , pumpkin dares us to say why either is impossible -- which forces us to confront what's possible and what we might do to make it so .\",\n",
       " 'an impressive debut for first-time writer-director mark romanek , especially considering his background is in music video .',\n",
       " 'an incendiary , deeply thought-provoking look at one of the most peculiar ( and peculiarly venomous ) bigotries in our increasingly frightening theocracy',\n",
       " 'all the performances are top notch and , once you get through the accents , all or nothing becomes an emotional , though still positive , wrench of a sit .',\n",
       " '\" its successes are also tempered with elements which prove the direct antithesis of what it gets right . \"',\n",
       " \"it's solid and affecting and exactly as thought-provoking as it should be .\",\n",
       " \"this is such a dazzlingly self-assured directorial debut that it's hard to know what to praise first .\",\n",
       " \"parker holds true to wilde's own vision of a pure comedy with absolutely no meaning , and no desire to be anything but a polished , sophisticated entertainment that is in love with its own cleverness .\",\n",
       " \"münch's genuine insight makes the film's occasional overindulgence forgivable .\",\n",
       " 'thankfully , the film , which skirts that rapidly deteriorating line between fantasy and reality . . . takes a tongue-in-cheek attitude even as it pushes the croc hunter agenda .',\n",
       " \"ultimately , the message of trouble every day seems to be that all sexual desire disrupts life's stasis .\",\n",
       " \"if you're like me , a sucker for a good old fashion romance and someone who shamelessly loves to eat , then mostly martha offers all the perfect ingredients to more than satisfy your appetite .\",\n",
       " 'the film has just enough of everything -- re-enactments , archival footage , talking-head interviews -- and the music is simply sublime .',\n",
       " 'there are a few stabs at absurdist comedy . . . but mostly the humor is of the sweet , gentle and occasionally cloying kind that has become an iranian specialty .',\n",
       " 'a wonderful character-based comedy .',\n",
       " 'it would be interesting to hear from the other side , but in talk to her , the women are down for the count .',\n",
       " 'an endearingly offbeat romantic comedy with a great meet-cute gimmick .',\n",
       " 'the unique tug-of-war with viewer expectations is undeniable , if not a pleasure in its own right .',\n",
       " \"it uses an old-time formula , it's not terribly original and it's rather messy -- but you just have to love the big , dumb , happy movie my big fat greek wedding .\",\n",
       " \"it's almost impossible not to be moved by the movie's depiction of sacrifice and its stirring epilogue in post-soviet russia .\",\n",
       " \"who knows what exactly godard is on about in this film , but his words and images don't have to add up to mesmerize you .\",\n",
       " 'the tone is balanced , reflective and reasonable .',\n",
       " 'the principals in this cast are all fine , but bishop and stevenson are standouts .',\n",
       " 'it could change america , not only because it is full of necessary discussion points , but because it is so accessible that it makes complex politics understandable to viewers looking for nothing but energetic entertainment .',\n",
       " \"what's most striking about this largely celebratory film . . . is the sense of isolation that permeates these bastions of individuality in an ikea world .\",\n",
       " \". . . if you're in a mind set for goofy comedy , the troopers will entertain with their gross outs , bawdy comedy and head games .\",\n",
       " \"somewhat blurred , but kinnear's performance is razor sharp .\",\n",
       " 'as a director , mr . ratliff wisely rejects the temptation to make fun of his subjects .',\n",
       " \"for anyone who remembers the '60s or is interested in one man's response to stroke , ram dass : fierce grace is worth seeking out .\",\n",
       " 'intriguing and beautiful film , but those of you who read the book are likely to be disappointed .',\n",
       " 'the new guy does have a heart . now , if it only had a brain .',\n",
       " \"a savvy exploration of paranoia and insecurity in america's culture of fear .\",\n",
       " \"legendary irish writer brendan behan's memoir , borstal boy , has been given a loving screen transferral .\",\n",
       " \"the film's greatest asset is how much it's not just another connect-the-dots , spy-on-the-run picture .\",\n",
       " 'this clever caper movie has twists worthy of david mamet and is enormous fun for thinking audiences .',\n",
       " \"it's one of the saddest films i have ever seen that still manages to be uplifting but not overly sentimental .\",\n",
       " 'morton is , as usual , brilliant .',\n",
       " 'even with all those rough edges safely sanded down , the american insomnia is still pretty darned good .',\n",
       " \"i don't know precisely what to make of steven soderbergh's full frontal , though that didn't stop me from enjoying much of it .\",\n",
       " 'the tug of war that ensues is as much a snapshot of modern china in microcosm as it is a crash course in movie mythology .',\n",
       " \"nearly surreal , dabbling in french , this is no simple movie , and you'll be taking a risk if you choose to see it . i enjoyed the ride ( bumps and all ) , creamy depth , and ultimate theme .\",\n",
       " \"you could say that it's slow at times , you could say that a few of the characters act in ways that real people wouldn't , but one thing you couldn't say is that alias betty is predictable .\",\n",
       " 'asia authors herself as anna battista , an italian superstar and aspiring directress who just happens to be her own worst enemy .',\n",
       " \"roman coppola may never become the filmmaker his dad was , but heck \\x96 few filmmakers will . but based on cq , i'll certainly be keeping an eye out for his next project .\",\n",
       " 'an amusing , breezily apolitical documentary about life on the campaign trail .',\n",
       " \"high on melodrama . but it's emotionally engrossing , too , thanks to strong , credible performances from the whole cast .\",\n",
       " 'finally , a genre movie that delivers -- in a couple of genres , no less .',\n",
       " \"it's not so much enjoyable to watch as it is enlightening to listen to new sides of a previous reality , and to visit with some of the people who were able to make an impact in the theater world .\",\n",
       " 'spielberg is the rare director who does not want to invite viewers to gawk at or applaud his special effects . he just wants them to be part of the action , the wallpaper of his chosen reality . here , thankfully , they are .',\n",
       " 'post 9/11 the philosophical message of \" personal freedom first \" might not be as palatable as intended .',\n",
       " 'hu and liu offer natural , matter-of-fact performances that glint with sorrow , longing and love .',\n",
       " 'this bold and lyrical first feature from raja amari expands the pat notion that middle-aged women just wanna have fun into a rousing treatise of sensual empowerment .',\n",
       " \"easier to respect than enthuse over , andersson's rigorous personal vision is not only distanced but distancing .\",\n",
       " 'girls gone wild and gone civil again',\n",
       " '. . . tunney is allowed to build an uncommonly human character , an almost real-live girl complete with trouble and hope .',\n",
       " 'while this film is not in the least surprising , it is still ultimately very satisfying . think of it as a sort of comfort food for the mind .',\n",
       " 'clever , brutal and strangely soulful movie .',\n",
       " '. . . always remains movingly genuine .',\n",
       " 'an intelligent fiction about learning through cultural clash .',\n",
       " 'will grab your children by the imagination and amaze them and amuse them .',\n",
       " 'a remarkable 179-minute meditation on the nature of revolution .',\n",
       " 'those who would follow haneke on his creepy explorations . . . are rewarded by brutal , committed performances from huppert and magimel .',\n",
       " 'an involving true story of a chinese actor who takes up drugs and winds up in an institution--acted mostly by the actual people involved .',\n",
       " \"hands down the year's most thought-provoking film . but it pays a price for its intricate intellectual gamesmanship .\",\n",
       " \"it's a terrific american sports movie and dennis quaid is its athletic heart .\",\n",
       " \"this is such a high-energy movie where the drumming and the marching are so excellent , who cares if the story's a little weak .\",\n",
       " 'compelling revenge thriller , though somewhat weakened by a miscast leading lady .',\n",
       " \"it's amazingly perceptive in its subtle , supportive but unsentimental look at the marks family .\",\n",
       " 'a whole lot foul , freaky and funny .',\n",
       " 'family fare .',\n",
       " 'attal mixes comedy with a serious exploration of ego and jealousy within a seemingly serene marriage .',\n",
       " 'the diversity of the artists represented , both in terms of style and ethnicity , prevents the proceedings from feeling repetitious , as does the appropriately brief 40-minute running time .',\n",
       " 'the pianist is a fine valedictory work for polanski , made richer by his own experiences , making his other movies somehow richer in the bargain .',\n",
       " 'foster nails the role , giving a tight , focused performance illuminated by shards of feeling .',\n",
       " 'even if you can\\'t pronounce \" gyro \" correctly , you\\'ll appreciate much of vardalos\\' humor , which transcends ethnic boundaries .',\n",
       " \"is office work really as alienating as 'bartleby' so effectively makes it ?\",\n",
       " \"farrell . . . thankfully manages to outshine the role and successfully plays the foil to willis's world-weary colonel .\",\n",
       " \"audiences conditioned to getting weepy over saucer-eyed , downy-cheeked moppets and their empathetic caretakers will probably feel emotionally cheated by the film's tart , sugar-free wit .\",\n",
       " \"bennett's dramatization of her personal descent into post-breakup perdition has a morbid appeal that's tough to shake .\",\n",
       " 'an intriguing and entertaining introduction to johnson .',\n",
       " \"as expected , sayles' smart wordplay and clever plot contrivances are as sharp as ever , though they may be overshadowed by some strong performances .\",\n",
       " 'a model of what films like this should be like .',\n",
       " \"as weber and weissman demonstrate with such insight and celebratory verve , the cockettes weren't as much about gender , sexual preference or political agitprop as they were simply a triumph of the indomitable human will to rebel , connect and create .\",\n",
       " \"yeah , these flicks are just that damn good . isn't it great ?\",\n",
       " 'an unbelievably fun film just a leading man away from perfection .',\n",
       " \"over-the-top and a bit ostentatious , this is a movie that's got oodles of style and substance .\",\n",
       " '. . . a poignant and powerful narrative that reveals that reading writing and arithmetic are not the only subjects to learn in life .',\n",
       " 'nicely serves as an examination of a society in transition .',\n",
       " 'boisterous , heartfelt comedy .',\n",
       " \"a tender and touching drama , based on the true story of a troubled african-american's quest to come to terms with his origins , reveals the yearning we all have in our hearts for acceptance within the family circle .\",\n",
       " 'as a randy film about sexy people in gorgeous places being pushed and pulled ( literally and figuratively ) by desire . . . [sex and lucía] makes for an arousing good time .',\n",
       " 'absorbing character study by andré turpin .',\n",
       " \"celebrated at sundance , this slight comedy of manners has winning performances and a glossy , glib charm that's hard to beat .\",\n",
       " \"renner's performance as dahmer is unforgettable , deeply absorbing .\",\n",
       " \"if no one singles out any of these performances as award-worthy , it's only because we would expect nothing less from this bunch .\",\n",
       " \"if you love reading and/or poetry , then by all means check it out . you'll probably love it .\",\n",
       " 'though of particular interest to students and enthusiast of international dance and world music , the film is designed to make viewers of all ages , cultural backgrounds and rhythmic ability want to get up and dance .',\n",
       " 'energetic and boldly provocative .',\n",
       " 'star wars is back in a major way .',\n",
       " \"it's a movie -- and an album -- you won't want to miss .\",\n",
       " \"it's rare to find a film that dazzles the eye , challenges the brain , and satisfies our lust for fast-paced action , but minority report delivers all that and a whole lot more .\",\n",
       " \"while not all transitions to adulthood are so fraught , there's much truth and no small amount of poetry in girls can't swim .\",\n",
       " \"if there's nothing fresh about wannabes , which was written by mr . demeo , who produced and directed the film with charles a . addessi , much of the time the movie feels authentic .\",\n",
       " \"jacquot's tosca is a treat .\",\n",
       " 'by the end of no such thing the audience , like beatrice , has a watchful affection for the monster .',\n",
       " \"if you liked such movies as notting hill , four weddings and a funeral , bridget jones' diary or high fidelity , then you won't want to miss about a boy .\",\n",
       " '. . . the gentle melding of drama and comedy makes \" what time is it there ? \" something the true film buff will enjoy .',\n",
       " \"romanek keeps the film constantly taut . . . reflecting the character's instability with a metaphorical visual style and an unnerving , heartbeat-like score .\",\n",
       " 'i whole-heartedly recommend that everyone see this movie-- for its historical significance alone .',\n",
       " 'hey , who else needs a shower ?',\n",
       " 'longley has constructed a remarkably coherent , horrifically vivid snapshot of those turbulent days .',\n",
       " \"although it bangs a very cliched drum at times , this crowd-pleaser's fresh dialogue , energetic music , and good-natured spunk are often infectious .\",\n",
       " \"often gruelling and heartbreaking to witness , but seldahl and wollter's sterling performances raise this far above the level of the usual maudlin disease movie .\",\n",
       " 'go see it and enjoy .',\n",
       " 'the stunning , dreamlike visuals will impress even those viewers who have little patience for euro-film pretension .',\n",
       " \"george clooney proves he's quite a talented director and sam rockwell shows us he's a world-class actor with confessions of a dangerous mind .\",\n",
       " \"there's a vastness implied in metropolis that is just breathtaking .\",\n",
       " 'murderous maids may well be the most comprehensive of these films and also strike closest to the truth .',\n",
       " \"the people in dogtown and z-boys are so funny , aggressive and alive , you have to watch them because you can't wait to see what they do next .\",\n",
       " \"as green-guts monster movies go , it's a beaut .\",\n",
       " 'as bundy , michael reilly burke ( octopus 2 : river of fear ) has just the right amount of charisma and menace .',\n",
       " 'a deceivingly simple film , one that grows in power in retrospect .',\n",
       " \"ana is a vivid , vibrant individual and the movie's focus upon her makes it successful and accessible .\",\n",
       " 'a slick , skillful little horror film .',\n",
       " 'a very witty take on change , risk and romance , and the film uses humour to make its points about acceptance and growth .',\n",
       " '[anderson] uses a hit-or-miss aesthetic that hits often enough to keep the film entertaining even if none of it makes a lick of sense .',\n",
       " \"bubba ho-tep is a wonderful film with a bravura lead performance by bruce campbell that doesn't deserve to leave the building until everyone is aware of it .\",\n",
       " 'despite the long running time , the pace never feels slack -- there\\'s no scene that screams \" bathroom break ! \"',\n",
       " 'bullock does a good job here of working against her natural likability .',\n",
       " 'a film of precious increments artfully camouflaged as everyday activities .',\n",
       " 'kinnear gives a tremendous performance .',\n",
       " \"the best movie of its kind since 'brazil . ' lucas , take notes . this is how you use special effects .\",\n",
       " '\" frailty \" has been written so well , that even a simple \" goddammit ! \" near the end takes on a whole other meaning .',\n",
       " \"one hour photo is an intriguing snapshot of one man and his delusions ; it's just too bad it doesn't have more flashes of insight .\",\n",
       " 'kaufman creates an eerie sense of not only being there at the time of these events but the very night matthew was killed .',\n",
       " 'chalk it up to my adoration for both de niro and murphy , but i had a pretty good time with this movie - despite its myriad flaws .',\n",
       " 'its scenes and sensibility are all more than familiar , but it exudes a kind of nostalgic spy-movie charm and , at the same time , is so fresh and free of the usual thriller nonsense that it all seems to be happening for the first time .',\n",
       " \"it represents better-than-average movie-making that doesn't demand a dumb , distracted audience .\",\n",
       " 'a charming yet poignant tale of the irrevocable ties that bind .',\n",
       " 'an enchanting spectacular for potter fans anxious to ride the hogwarts express toward a new year of magic and mischief .',\n",
       " 'the talents of the actors helps \" moonlight mile \" rise above its heart-on-its-sleeve writing .',\n",
       " \"it's a humble effort , but spiced with wry humor and genuine pathos , especially between morgan and redgrave .\",\n",
       " 'this examination of aquatic life off the shores of the baja california peninsula of mexico offers an engrossing way to demonstrate the virtues of the imax format .',\n",
       " 'dark and disturbing , but also surprisingly funny .',\n",
       " 'the movie has an avalanche of eye-popping visual effects .',\n",
       " \"starts off with a bang , but then fizzles like a wet stick of dynamite at the very end . it's still worth a look .\",\n",
       " \"most impressive , though , is the film's open-ended finale that refuses to entirely close its characters' emotional wounds .\",\n",
       " 'a hip ride into hyper-time , clockstoppers is a lively and enjoyable adventure for all ages at any time .',\n",
       " \"grenier is terrific , bringing an unforced , rapid-fire delivery to toback's heidegger- and nietzsche-referencing dialogue .\",\n",
       " '. . . a polished and relatively sincere piece of escapism .',\n",
       " \"the story wraps back around on itself in the kind of elegant symmetry that's rare in film today , but be warned : it's a slow slog to get there .\",\n",
       " 'the whole cast looks to be having so much fun with the slapstick antics and silly street patois , tossing around obscure expressions like bellini and mullinski , that the compact 86 minutes breezes by .',\n",
       " '. . . has freaky scenes where the crew wonder if they\\'re ghosts imagining themselves as alive . it\\'s a sly wink to the others without becoming a postmodern joke , made creepy by its \" men in a sardine can \" warped logic .',\n",
       " \"long after you leave justine , you'll be wondering what will happen to her and wishing her the best -- whatever that might mean .\",\n",
       " \"still pretentious and filled with subtext , but entertaining enough at 'face value' to recommend to anyone looking for something different .\",\n",
       " 'call me a wimp , but i cried , not once , but three times in this animated sweet film .',\n",
       " 'notorious c . h . o . has oodles of vulgar highlights .',\n",
       " 'an inspiring and heart-affecting film about the desperate attempts of vietnamese refugees living in u . s . relocation camps to keep their hopes alive in 1975 .',\n",
       " 'the level of maturity displayed by this 33-year-old first-time feature director is astonishing , considering her inexperience and her subject matter .',\n",
       " 'a splendid entertainment , young in spirit but accomplished in all aspects with the fullness of spirit and sense of ease that comes only with experience .',\n",
       " \"disney's live-action division has a history of releasing cinematic flotsam , but this is one occasion when they have unearthed a rare gem .\",\n",
       " 'if the message seems more facile than the earlier films , the images have such a terrible beauty you may not care .',\n",
       " 'whether kiss is a future cult classic or destined to be completely forgotten is open to question , but the risk-takers in the crowd should check it out and form their own opinion .',\n",
       " \"there are moments in this account of the life of artist frida kahlo that are among cinema's finest this year . unfortunately , they're sandwiched in between the most impossibly dry account of kahlo's life imaginable .\",\n",
       " 'there are moments it can be heart-rending in an honest and unaffected ( and gentle ) way .',\n",
       " 'stay clear of reminding yourself that it\\'s a \" true story \" and you\\'re likely to have one helluva time at the movies .',\n",
       " 'there are just enough twists in the tale to make it far more satisfying than almost any horror film in recent memory .',\n",
       " \"the sundance film festival has become so buzz-obsessed that fans and producers descend upon utah each january to ferret out the next great thing . 'tadpole' was one of the films so declared this year , but it's really more of the next pretty good thing .\",\n",
       " \"working from elliott's memoir , rohmer fashions the sort of delicate , articulate character- and- relationship study he's favored for decades .\",\n",
       " 'the story feels more like a serious read , filled with heavy doses of always enticing sayles dialogue .',\n",
       " 'when it really counts . . . bloody sunday connects on a visceral level that transcends language .',\n",
       " 'the crime matters less than the characters , although the filmmakers supply enough complications , close calls and double-crosses to satisfy us .',\n",
       " '[an] hilarious romantic comedy .',\n",
       " 'the actors are fantastic . they are what makes it worth the trip to the theatre .',\n",
       " \"ranging from funny to shattering and featuring some of the year's best acting , personal velocity gathers plenty of dramatic momentum .\",\n",
       " 'i complain all the time about seeing the same ideas repeated in films over and over again , but the bourne identity proves that a fresh take is always possible .',\n",
       " \"recalls quiet freak-outs like l'avventura and repulsion .\",\n",
       " \"only an epic documentary could get it all down , and spike lee's jim brown : all american at long last gives its subject a movie worthy of his talents .\",\n",
       " '. . . as the story congeals you feel the pieces of the star wars saga falling into place in a way that makes your spine tingle with revelation and excitement .',\n",
       " \"a great comedy filmmaker knows great comedy needn't always make us laugh . tim story's not there yet - but 'barbershop' shows he's on his way .\",\n",
       " 'the movie is one of the best examples of artful large format filmmaking you are likely to see anytime soon .',\n",
       " 'lends itself to the narcotizing bland ( sinister , though not nearly so sinister as the biennial disney girl movie ) machinations of the biennial disney boy movie .',\n",
       " 'well-written , nicely acted and beautifully shot and scored , the film works on several levels , openly questioning social mores while ensnaring the audience with its emotional pull .',\n",
       " 'jason x has cheesy effects and a hoary plot , but its macabre , self-deprecating sense of humor makes up for a lot .',\n",
       " \"[taymor] utilizes the idea of making kahlo's art a living , breathing part of the movie , often catapulting the artist into her own work . this isn't a new idea . it's been done before but never so vividly or with so much passion .\",\n",
       " 'an impressive if flawed effort that indicates real talent .',\n",
       " 'two generations within one family test boundaries in this intelligent and restrained coming-of-age drama .',\n",
       " \"it sounds sick and twisted , but the miracle of shainberg's film is that it truly is romance\",\n",
       " 'disturbing and brilliant documentary .',\n",
       " '. . . mesmerizing , an eye-opening tour of modern beijing culture in a journey of rebellion , retreat into oblivion and return .',\n",
       " \"one of the best examples of how to treat a subject , you're not fully aware is being examined , much like a photo of yourself you didn't know was being taken .\",\n",
       " \"not too far below the gloss you can still feel director denis villeneuve's beating heart and the fondness he has for his characters .\",\n",
       " 'as if to prove a female director can make a movie with no soft edges , kathryn bigelow offers no sugar-coating or interludes of lightness . her film is unrelentingly claustrophobic and unpleasant .',\n",
       " '[villeneuve] seems to realize intuitively that even morality is reduced to an option by the ultimate mysteries of life and death .',\n",
       " 'the result is mesmerizing -- filled with menace and squalor .',\n",
       " 'fisher has bared his soul and confronted his own shortcomings here in a way . . . that feels very human and very true to life .',\n",
       " \"it's fun , but the code-talk will fly right over everyone's head\",\n",
       " \"bourne , jason bourne . he can scale a building like a super hero , he can out-stealth any agent , he'll get the girl . he's super spy !\",\n",
       " 'what makes the movie a comedy is the way it avoids the more serious emotions involved .',\n",
       " 'an exhilarating experience .',\n",
       " 'this cuddly sequel to the 1999 hit is a little more visually polished , a little funnier , and a little more madcap .',\n",
       " \"the pleasures of super troopers may be fleeting , but they'll register strongly with anybody who still retains a soft spot for precollegiate humor .\",\n",
       " 'the film is exhilarating to watch because sandler , liberated from the constraints of formula , reveals unexpected depths as an actor .',\n",
       " \"a distant , even sterile , yet compulsively watchable look at the sordid life of hogan's heroes star bob crane .\",\n",
       " \"the film delivers not just the full assault of reno's immense wit and insight , but a time travel back to what it felt like during those unforgettably uncertain days .\",\n",
       " 'what might have been a predictably heartwarming tale is suffused with complexity .',\n",
       " \"sound the trumpets : for the first time since desperately seeking susan , madonna doesn't suck as an actress .\",\n",
       " \"although very much like the first movie based on j . k . rowling's phenomenal fantasy best sellers , this second go-round possesses a quite pleasing , headlong thrust and a likably delinquent attitude .\",\n",
       " '[ \" take care of my cat \" ] is an honestly nice little film that takes us on an examination of young adult life in urban south korea through the hearts and minds of the five principals .',\n",
       " 'as the story moves inexorably through its seven day timeframe , the picture becomes increasingly mesmerizing .',\n",
       " 'maguire is a surprisingly effective peter/spider-man .',\n",
       " \"not a cozy or ingratiating work , but it's challenging , sometimes clever , and always interesting , and those are reasons enough to see it .\",\n",
       " 'the film runs on equal parts of innocence and wisdom -- wisdom that comes with experience . it has fun being grown up .',\n",
       " 'like old myths and wonder tales spun afresh .',\n",
       " 'rarely do films come along that are as intelligent , exuberant , and moving as monsoon wedding .',\n",
       " 'one scarcely needs the subtitles to enjoy this colorful action farce .',\n",
       " 'quite funny for the type of movie it is . . .',\n",
       " \"it's often infuriatingly glib and posturing , and yet it has been made with great evident care and manages to deliver up the man in a way to arouse further curiosity in even the most unknowing viewer .\",\n",
       " \"one of [herzog's] least inspired works .\",\n",
       " 'this boisterous comedy serves up a cruel reminder of the fate of hundreds of thousands of chinese , one which can only qualify as a terrible tragedy .',\n",
       " \"elling really is about a couple of crazy guys , and it's therapeutic to laugh along with them .\",\n",
       " 'never [sinks] into exploitation .',\n",
       " 'an irresistible combination of a rousing good story set on a truly grand scale .',\n",
       " \"there's no denying the physically spectacular qualities of the film . . . or the emotional integrity of the performances .\",\n",
       " 'few films this year have been as resolute in their emotional nakedness .',\n",
       " 'exquisitely acted and masterfully if preciously interwoven\\x85 [the film] addresses in a fascinating , intelligent manner the intermingling of race , politics and local commerce .',\n",
       " \"stevenson's performance is at once clueless and fiercely committed , a volatile combination .\",\n",
       " 'this is a very fine movie -- go see it .',\n",
       " \"as shaky as the plot is , kaufman's script is still memorable for some great one-liners .\",\n",
       " 'despite its flaws , secretary stays in your head and makes you question your own firmly held positions .',\n",
       " 'one of those rare , exhilarating cinematic delights that gets even better in hindsight , as you mull over its every nuance in your mind .',\n",
       " 'not everything works , but the average is higher than in mary and most other recent comedies .',\n",
       " 'a byzantine melodrama that stimulates the higher brain functions as well as the libido .',\n",
       " \"a sensitive and expertly acted crowd-pleaser that isn't above a little broad comedy and a few unabashedly sentimental tears .\",\n",
       " \"the film's sharp , often mischievous sense of humor will catch some off guard . . .\",\n",
       " 'does what a fine documentary does best : it extends a warm invitation into an unfamiliar world , then illuminates it fully and allows the larger implications of the journey to sink in unobtrusively .',\n",
       " 'almost every scene in this film is a gem that could stand alone , a perfectly realized observation of mood , behavior and intent .',\n",
       " 'a psychologically rich and suspenseful moral thriller with a stellar performance by al pacino .',\n",
       " \"you won't believe much of it , but you will laugh at the audacity , at the who's who casting and the sheer insanity of it all .\",\n",
       " \"this version's no classic like its predecessor , but its pleasures are still plentiful .\",\n",
       " 'the bourne identity is what summer screen escapism used to be in the decades when it was geared more to grownups .',\n",
       " 'provide[s] nail-biting suspense and credible characters without relying on technology-of-the-moment technique or pretentious dialogue .',\n",
       " 'if it tried to do anything more , it would fail and perhaps explode , but at this level of manic whimsy , it is just about right .',\n",
       " 'too sincere to exploit its subjects and too honest to manipulate its audience .',\n",
       " \"the saturation bombing of reggio's images and glass' evocative music . . . ultimately leaves viewers with the task of divining meaning .\",\n",
       " 'for all its serious sense of purpose . . . [it] finds a way to lay bare the tragedies of its setting with a good deal of warmth and humor .',\n",
       " 'a depressing confirmation of everything those of us who don\\'t object to the description \" unelected \" have suspected all along : george w . bush is an incurious , uncharismatic , overgrown frat boy with a mean streak a mile wide .',\n",
       " \"this road movie gives you emotional whiplash , and you'll be glad you went along for the ride .\",\n",
       " \"sure , it's more of the same , but as the film proves , that's not always a bad thing .\",\n",
       " 'a lighthearted , feel-good film that embraces the time-honored truth that the most powerful thing in life is love .',\n",
       " 'a bowel-curdling , heart-stopping recipe for terror .',\n",
       " \"daughter from danang is a film that should be seen by all , especially those who aren't aware of , or have forgotten about the unmentioned victims of war .\",\n",
       " \"zhang yimou delivers warm , genuine characters who lie not through dishonesty , but because they genuinely believe it's the only way to bring happiness to their loved ones .\",\n",
       " '. . . breathes surprising new life into the familiar by amalgamating genres and adding true human complexity to its not-so-stock characters .',\n",
       " \"' . . . both hokey and super-cool , and definitely not in a hurry , so sit back , relax and have a few laughs while the little ones get a fuzzy treat . '\",\n",
       " 'a pleasant romantic comedy .',\n",
       " \"it's a count for our times .\",\n",
       " 'greengrass has delivered an undoubted stylistic tour-de-force , and has managed elements such as sound and cinematography with skill',\n",
       " \"smith's point is simple and obvious -- people's homes are extensions of themselves , and particularly eccentric people have particularly eccentric living spaces -- but his subjects are charmers .\",\n",
       " 'a romantic comedy , yes , but one with characters who think and talk about their goals , and are working on hard decisions .',\n",
       " 'vividly conveys both the pitfalls and the pleasures of over-the-top love .',\n",
       " '. . . a weak , manipulative , pencil-thin story that is miraculously able to entertain anyway .',\n",
       " 'a pro-fat farce that overcomes much of its excessive moral baggage thanks to two appealing lead performances .',\n",
       " 'for the first two-thirds of this sparklingly inventive and artful , always fast and furious tale , kids will go happily along for the ride .',\n",
       " \"majidi's poetic love story is a ravishing consciousness-raiser , if a bit draggy at times .\",\n",
       " 'the smartest bonehead comedy of the summer .',\n",
       " 'effectively feeds our senses with the chilling sights and sounds from within the camp to create a completely numbing experience .',\n",
       " 'i love the way that it took chances and really asks you to take these great leaps of faith and pays off .',\n",
       " 'in his debut as a film director , denzel washington delivers a lean and engaging work .',\n",
       " 'only two words will tell you what you know when deciding to see it : anthony . hopkins .',\n",
       " \"the movie's quiet affirmation of neighborhood values gives it an honest , lived-in glow .\",\n",
       " 'a teasing drama whose relentless good-deed/bad-deed reversals are just interesting enough to make a sinner like me pray for an even more interesting , less symmetrical , less obviously cross-shaped creation .',\n",
       " 'hayek is stunning as frida and . . . a star-making project .',\n",
       " \"it's both a necessary political work and a fascinating documentary . . .\",\n",
       " 'hilarious , acidic brit comedy .',\n",
       " \"as a revenge thriller , the movie is serviceable , but it doesn't really deliver the delicious guilty pleasure of the better film versions .\",\n",
       " 'an ironic speculation on democracy in a culture unaccustomed to it .',\n",
       " \"it's not life-affirming \\x97 its vulgar and mean , but i liked it .\",\n",
       " 'several degrees shy of the gross-out contests one expects from current teen fare .',\n",
       " 'the inherent strength of the material as well as the integrity of the filmmakers gives this coming-of-age story restraint as well as warmth .',\n",
       " \"led by griffin's smartly nuanced performance and enthusiasm , the cast has a lot of fun with the material .\",\n",
       " 'tuck everlasting achieves a delicate balance of romantic innocence and philosophical depth .',\n",
       " 'a gentle blend of present day testimonials , surviving footage of burstein and his family performing , historical archives , and telling stills .',\n",
       " 'a generation x artifact , capturing a brief era of insanity in the sports arena that surely cannot last .',\n",
       " \"possession is elizabeth barrett browning meets nancy drew , and it's directed by . . . neil labute . hmm .\",\n",
       " 'an uneven but intriguing drama that is part homage and part remake of the italian masterpiece .',\n",
       " 'windtalkers celebrates the human spirit and packs an emotional wallop .',\n",
       " \"having never been a huge fan of dickens' 800-page novel , it surprised me how much pleasure i had watching mcgrath's version .\",\n",
       " 'the best thing the film does is to show us not only what that mind looks like , but how the creative process itself operates .',\n",
       " 'for all its failed connections , divine secrets of the ya-ya sisterhood is nurturing , in a gauzy , dithering way .',\n",
       " 'this is pretty dicey material . but some unexpected zigs and zags help .',\n",
       " 'compellingly watchable .',\n",
       " 'the filmmakers skillfully evoke the sense of menace that nature holds for many urban dwellers .',\n",
       " 'the laser-projected paintings provide a spell-casting beauty , while russell and dreyfus are a romantic pairing of hearts , preciously exposed as history corners them .',\n",
       " \"you don't have to be an especially tough grader to give a charitable b-minus to the emperor's club .\",\n",
       " 'this romantic thriller is steeped in the atmosphere of wartime england , and ably captures the speech patterns , moral codes and ideals of the 1940s .',\n",
       " \"divine secrets of the ya-ya sisterhood may not be exactly divine , but it's definitely -- defiantly -- ya ya , what with all of those terrific songs and spirited performances .\",\n",
       " \"viewed on its own terms , treasure planet is better-than-average family entertainment , but true fans of the stevenson's novel will likely prefer disney's more faithful 1950 live-action swashbuckling classic .\",\n",
       " 'a journey through memory , a celebration of living , and a sobering rumination on fatality , classism , and ignorance .',\n",
       " 'resourceful and ingenious entertainment .',\n",
       " '\" antwone fisher \" is an earnest , by-the-numbers effort by washington . it won\\'t rock any boats but is solid meat-and-potatoes filmmaking .',\n",
       " 'a historical epic with the courage of its convictions about both scope and detail .',\n",
       " \"we need [moore's] noisy , cocky energy , his passion and class consciousness ; we need his shticks , we need his stones .\",\n",
       " 'although the editing might have been tighter , hush ! sympathetically captures the often futile lifestyle of young people in modern japan .',\n",
       " '[gai] comes closer to any actress i can remember to personifying independence in its purest and , yes , most intimidating form .',\n",
       " 'these are lives worth watching , paths worth following .',\n",
       " \"it's rather like a lifetime special -- pleasant , sweet and forgettable .\",\n",
       " \"a moody horror/thriller elevated by deft staging and the director's well-known narrative gamesmanship .\",\n",
       " \"as a singular character study , it's perfect . it's also the year's sweetest movie .\",\n",
       " 'a graceful , contemplative film that gradually and artfully draws us into a world where the personal and the political get fatally intertwined .',\n",
       " 'while not as aggressively impressive as its american counterpart , \" in the bedroom , \" moretti\\'s film makes its own , quieter observations',\n",
       " 'the experience of watching blobby old-school cgi animation in this superlarge format is just surreal enough to be diverting .',\n",
       " 'time changer may not be the most memorable cinema session but its profound self-evaluation message about our fragile existence and the absence of spiritual guidance should at least invade an abundance of mindsets',\n",
       " '\" the emperor\\'s new clothes \" begins with a simple plan . . . . well , at least that\\'s the plan .',\n",
       " \"haynes has so fanatically fetishized every bizarre old-movie idiosyncrasy with such monastic devotion you're not sure if you should applaud or look into having him committed .\",\n",
       " \"[director peter] jackson and his crew have so steeped themselves in the majesty of tolkien's writing that every frame produces new joys , whether you're a fan of the books or not .\",\n",
       " \"while the glass slipper doesn't quite fit , pumpkin is definitely a unique modern fairytale .\",\n",
       " 'the drama is played out with such aching beauty and truth that it brings tears to your eyes .',\n",
       " 'an exciting and involving rock music doc , a smart and satisfying look inside that tumultuous world .',\n",
       " 'an offbeat , sometimes gross and surprisingly appealing animated film about the true meaning of the holidays .',\n",
       " 'this version incarnates the prophetic book in a way even its exacting author might admire .',\n",
       " 'sometimes , nothing satisfies like old-fashioned swashbuckling . and in this regard , on guard delivers .',\n",
       " \". . . ambition is in short supply in the cinema , and egoyan tackles his themes and explores his characters' crises with seriousness and compassion .\",\n",
       " 'an impossible romance , but we root for the patronized iranian lad .',\n",
       " 'like dickens with his passages , mcgrath crafts quite moving scenes throughout his resolutely dramatic variation on the novel .',\n",
       " \"there's a disreputable air about the whole thing , and that's what makes it irresistible .\",\n",
       " \"an exceedingly clever piece of cinema . another great \\x91what you don't see' is much more terrifying than what you do see thriller , coupled with some arresting effects , incandescent tones and stupendous performances\",\n",
       " 'a carefully structured scream of consciousness that is tortured and unsettling--but unquestionably alive .',\n",
       " \"a quietly reflective and melancholy new zealand film about an eventful summer in a 13-year-old girl's life .\",\n",
       " 'cute , funny , heartwarming digitally animated feature film with plenty of slapstick humor for the kids , lots of in-jokes for the adults and heart enough for everyone .',\n",
       " 'very solid , very watchable first feature for director peter sheridan',\n",
       " 'a budget affair that exposes the generally sad existence of the bedouins while providing a precious twinkle of insight into their lives .',\n",
       " 'it suggests the wide-ranging effects of media manipulation , from the kind of reporting that is done by the supposedly liberal media . . . to the intimate and ultimately tragic heartache of maverick individuals like hatfield and hicks .',\n",
       " 'workmanlike , maybe , but still a film with all the elements that made the other three great , scary times at the movies .',\n",
       " 'a pleasant enough comedy that should have found a summer place .',\n",
       " 'branagh , in his most forceful non-shakespeare screen performance , grounds even the softest moments in the angry revolt of his wit .',\n",
       " 'though the violence is far less sadistic than usual , the film is typical miike : fast , furious and full of off-the-cuff imaginative flourishes .',\n",
       " 'compelling as it is exotic , fast runner has a plot that rivals shakespeare for intrigue , treachery and murder .',\n",
       " 'what it lacks in originality it makes up for in intelligence and b-grade stylishness .',\n",
       " 'the warm presence of zhao benshan makes the preposterous lying hero into something more than he reasonably should be .',\n",
       " \"this is as powerful a set of evidence as you'll ever find of why art matters , and how it can resonate far beyond museum walls and through to the most painfully marginal lives .\",\n",
       " 'director rob marshall went out gunning to make a great one .',\n",
       " 'skip work to see it at the first opportunity .',\n",
       " \"bow's best moments are when he's getting busy on the basketball court because that's when he really scores .\",\n",
       " 'offers enough playful fun to entertain the preschool set while embracing a wholesome attitude .',\n",
       " \"in the end , punch-drunk love is one of those films that i wanted to like much more than i actually did . sometimes , that's enough .\",\n",
       " 'an intimate , good-humored ethnic comedy like numerous others but cuts deeper than expected .',\n",
       " 'ice cube holds the film together with an engaging and warm performance . . .',\n",
       " 'both deeply weird and charmingly dear .',\n",
       " 'as blunt as it is in depicting child abuse , el bola is a movie steeped in an ambiguity that lends its conflicts a symbolic resonance .',\n",
       " 'despite a story predictable enough to make the sound of music play like a nail-biting thriller , its heart is so much in the right place it is difficult to get really peeved at it .',\n",
       " \"it's a masterpiece .\",\n",
       " 'an incredibly low-rent danish film , it brings a group of people together in a sweet and charming way , if a little convenient',\n",
       " \"it's the cinematic equivalent of a good page-turner , and even if it's nonsense , its claws dig surprisingly deep .\",\n",
       " \"director nalin pan doesn't do much to weigh any arguments one way or the other . he simply presents his point of view that ayurveda works . no question .\",\n",
       " 'what \" empire \" lacks in depth it makes up for with its heart .',\n",
       " 'claude miller airs out a tight plot with an easy pace and a focus on character drama over crime-film complications .',\n",
       " \"what full frontal lacks in thematic coherence it largely makes up for as loosey-goosey , experimental entertainment . still , i'm not quite sure what the point is\",\n",
       " 'rich in detail , gorgeously shot and beautifully acted , les destinees is , in its quiet , epic way , daring , inventive and refreshingly unusual .',\n",
       " \"( a ) hollywood sheen bedevils the film from the very beginning . . . ( but ) lohman's moist , deeply emotional eyes shine through this bogus veneer . . .\",\n",
       " \"do we really need a 77-minute film to tell us exactly why a romantic relationship between a 15-year-old boy and a 40-year-old woman doesn't work ?\",\n",
       " 'ford deserves to be remembered at oscar time for crafting this wonderful portrait of a conflicted soldier .',\n",
       " \"the film's 45-minute running time stops shy of overkill , though viewers may be more exhausted than the athletes onscreen .\",\n",
       " \"don't expect any surprises in this checklist of teamwork cliches . . .\",\n",
       " 'as adapted by kevin molony from simon leys\\' novel \" the death of napoleon \" and directed by alan taylor , napoleon\\'s journey is interesting but his parisian rebirth is stillborn',\n",
       " \"the movie addresses a hungry need for pg-rated , nonthreatening family movies , but it doesn't go too much further .\",\n",
       " 'this warm and gentle romantic comedy has enough interesting characters to fill several movies , and its ample charms should win over the most hard-hearted cynics .',\n",
       " 'a yarn that respects the marvel version without becoming ensnared by it .',\n",
       " \"this is a happy throwback to the time when cartoons were cinema's most idiosyncratic form instead of one of its most predictable .\",\n",
       " 'complex , affecting and uniquely almodóvar , the film evokes strong emotions and pushes viewers to question their deepest notions of moral right and wrong .',\n",
       " \"good ol' urban legend stuff .\",\n",
       " \"not so much a movie as a picture book for the big screen . this isn't my favorite in the series , still i enjoyed it enough to recommend .\",\n",
       " \"it's one of the most honest films ever made about hollywood .\",\n",
       " 'it is a film that will have people walking out halfway through , will encourage others to stand up and applaud , and will , undoubtedly , leave both camps engaged in a ferocious debate for years to come .',\n",
       " 'on its own cinematic terms , it successfully showcases the passions of both the director and novelist byatt .',\n",
       " 'light , silly , photographed with colour and depth , and rather a good time .',\n",
       " \"pray's film works well and will appeal even to those who aren't too familiar with turntablism .\",\n",
       " 'troubling and powerful .',\n",
       " 'good movie . good actress . but if you expect light romantic comedy , good gosh , will you be shocked .',\n",
       " 'it has the courage to wonder about big questions with sincerity and devotion . it risks seeming slow and pretentious , because it thinks the gamble is worth the promise .',\n",
       " \"with youthful high spirits , tautou remains captivating throughout michele's religious and romantic quests , and she is backed by a likable cast .\",\n",
       " \"it's an example of sophisticated , challenging filmmaking that stands , despite its noticeable lack of emotional heft , in welcome contrast to the indulgent dead-end experimentation of the director's previous full frontal .\",\n",
       " 'a very funny look at how another culture handles the process of courting and marriage .',\n",
       " 'but tongue-in-cheek preposterousness has always been part of for the most part wilde\\'s droll whimsy helps \" being earnest \" overcome its weaknesses and parker\\'s creative interference . . .',\n",
       " \"much of the movie's charm lies in the utter cuteness of stuart and margolo . their computer-animated faces are very expressive .\",\n",
       " \"the path ice age follows most closely , though , is the one established by warner bros . giant chuck jones , who died a matter of weeks before the movie's release .\",\n",
       " \"anchored by a terrific performance by abbass , satin rouge shows that the idea of women's self-actualization knows few continental divides .\",\n",
       " 'awkward but sincere and , ultimately , it wins you over .',\n",
       " \"smith profiles five extraordinary american homes , and because the owners seem fully aware of the uses and abuses of fame , it's a pleasure to enjoy their eccentricities .\",\n",
       " 'though the plot is predictable , the movie never feels formulaic , because the attention is on the nuances of the emotional development of the delicate characters .',\n",
       " \"sam jones became a very lucky filmmaker the day wilco got dropped from their record label , proving that one man's ruin may be another's fortune .\",\n",
       " \"goyer's screenplay and direction are thankfully understated , and he has drawn excellent performances from his cast .\",\n",
       " 'binoche and magimel are perfect in these roles .',\n",
       " 'when your leading ladies are a couple of screen-eating dominatrixes like goldie hawn and susan sarandon at their raunchy best , even hokum goes down easily .',\n",
       " \"while undercover brother is definitely one for the masses , it's also full of sharp , smart satire .\",\n",
       " 'gets under the skin of a man who has just lost his wife .',\n",
       " 'it may not be \" last tango in paris \" but . . .',\n",
       " 'no wonder they\\'re talking about \" talk to her . \" it\\'s astonishing .',\n",
       " 'for its seriousness , high literary aspirations and stunning acting , the film can only be applauded .',\n",
       " 'look , this is a terrific flick replete with dazzling camera-work , dancing and music .',\n",
       " 'it is inspirational in characterizing how people from such diverse cultures share the same human and spiritual needs .',\n",
       " \"it's fairly self-aware in its dumbness .\",\n",
       " 'a triumph , relentless and beautiful in its downbeat darkness .',\n",
       " 'tailored to entertain !',\n",
       " 'a compelling , moving film that respects its audience and its source material .',\n",
       " 'has a plot full of twists upon knots . . . and a nonstop parade of mock-tarantino scuzbag types that starts out clever but veers into overkill .',\n",
       " 'a work of astonishing delicacy and force .',\n",
       " 'the film benefits greatly from a less manic tone than its predecessor , as cho appears to have settled comfortably into her skin .',\n",
       " \"for the first time in several years , mr . allen has surpassed himself with the magic he's spun with the hollywood empress of ms . leoni's ellie .\",\n",
       " \"isn't quite the equal of woo's best earlier work , but it's easily his finest american film . . . comes close to recapturing the brilliance of his hong kong films .\",\n",
       " 'the film hinges on its performances , and both leads are up to the task .',\n",
       " \"an intelligent , earnest , intimate film that drops the ball only when it pauses for blunt exposition to make sure you're getting its metaphysical point .\",\n",
       " 'a modest pleasure that accomplishes its goals with ease and confidence .',\n",
       " 'a breezy , diverting , conventional , well-acted tale of two men locked in an ongoing game of cat-and-cat .',\n",
       " 'what jackson has accomplished here is amazing on a technical level .',\n",
       " 'as teen movies go , \" orange county \" is a refreshing change',\n",
       " 'makes s&m seem very romantic , and maggie gyllenhaal is a delight .',\n",
       " 'a deliciously mordant , bitter black comedy .',\n",
       " \"although life or something like it is very much in the mold of feel-good movies , the cast and director stephen herek's polished direction pour delightfully piquant wine from aged bottles .\",\n",
       " 'it is risky , intelligent , romantic and rapturous from start to finish .',\n",
       " \"the movie sticks much closer to hornby's drop-dead confessional tone than the film version of high fidelity did .\",\n",
       " 'a pleasant ramble through the sort of idoosyncratic terrain that errol morris has often dealt with . . . it does possess a loose , lackadaisical charm .',\n",
       " \". . . spiced with humor ( 'i speak fluent flatula , ' advises denlopp after a rather , er , bubbly exchange with an alien deckhand ) and witty updatings ( silver's parrot has been replaced with morph , a cute alien creature who mimics everyone and everything around )\",\n",
       " \"this is a raw and disturbing tale that took five years to make , and the trio's absorbing narrative is a heart-wrenching showcase indeed .\",\n",
       " 'a beautiful and haunting examination of the stories we tell ourselves to make sense of the mundane horrors of the world .',\n",
       " \"aside from being the funniest movie of the year , simone , andrew niccol's brilliant anti-hollywood satire , has a wickedly eccentric enchantment to it .\",\n",
       " \"watstein handily directs and edits around his screenplay's sappier elements . . . and sustains off the hook's buildup with remarkable assuredness for a first-timer .\",\n",
       " 'just another fish-out-of-water story that barely stays afloat .',\n",
       " \"there's an energy to y tu mamá también . much of it comes from the brave , uninhibited performances by its lead actors .\",\n",
       " \"it's the kind of pigeonhole-resisting romp that hollywood too rarely provides .\",\n",
       " \"reinforces the often forgotten fact of the world's remarkably varying human population and mindset , and its capacity to heal using creative , natural and ancient antidotes .\",\n",
       " 'you can feel the heat that ignites this gripping tale , and the humor and humanity that root it in feeling .',\n",
       " \"it's hard not to be seduced by [witherspoon's] charisma , even in this run-of-the-mill vehicle , because this girl knows how to drive it to the max .\",\n",
       " \"a movie for 11-year-old boys with sports dreams of their own and the preteen girls who worship lil' bow wow .\",\n",
       " 'a refreshingly authentic coming-of-age tale .',\n",
       " \"if you're not into the pokemon franchise , this fourth animated movie in four years won't convert you -- or even keep your eyes open . but fans should have fun meeting a brand-new pokemon called celebi .\",\n",
       " \"from the big giant titles of the opening credits to elmer bernstein's perfectly melodic score , haynes gets just about everything right .\",\n",
       " 'whether seen on a 10-inch television screen or at your local multiplex , the edge-of-your-seat , educational antics of steve irwin are priceless entertainment .',\n",
       " 'has a shambling charm . . . a cheerfully inconsequential diversion .',\n",
       " \"ferrara directs the entire film with the kind of detachment that makes any given frame look like a family's custom-made christmas card .\",\n",
       " 'the movie has lots of dancing and fabulous music . there are slow and repetitive parts , but it has just enough spice to keep it interesting .',\n",
       " 'an incredibly clever and superbly paced caper filled with scams within scams within scams .',\n",
       " \"there's not much more to this adaptation of the nick hornby novel than charm -- effortless , pleasurable , featherweight charm .\",\n",
       " 'as a belated nod to some neglected all-stars , standing in the shadows of motown is cultural history of the best kind : informative , revealing and richly entertaining .',\n",
       " \"even if the ride's a little bumpy , with a final lap that's all too suspiciously smooth , you gotta give director roger michell , best known for the superfluous notting hill , credit for trying .\",\n",
       " 'not as distinctive or even as humorous as its needs to be to stand out , but it has clearly been made with affection and care .',\n",
       " \"this is carion's debut feature but his script and direction hums with a confidence that many spend entire careers trying to reach .\",\n",
       " 'an intelligent , moving and invigorating film .',\n",
       " 'ofrece una buena oportunidad de cultura ( aunque sea condensada ) que bien vale la pena aprovechar .',\n",
       " \". . . one of the most ingenious and entertaining thrillers i've seen in quite a long time .\",\n",
       " 'a clever blend of fact and fiction .',\n",
       " 'a vivid cinematic portrait .',\n",
       " 'hilarious , touching and wonderfully dyspeptic .',\n",
       " 'es divertida , visualmente espectacular y muy entretenida . simple y sencillamente te sorprenderá .',\n",
       " 'theirs is a simple and heart-warming story , full of mirth that should charm all but the most cynical .',\n",
       " 'the film is an enjoyable family film -- pretty much aimed at any youngster who loves horses .',\n",
       " 'a frisky and fresh romantic comedy exporing sexual politics and the challenges of friendships between women .',\n",
       " \"it's a good film -- not a classic , but odd , entertaining and authentic .\",\n",
       " 'flavorful and romantic , you could call this how martha got her groove back -- assuming , that is , she ever had one to begin with .',\n",
       " 'happily for mr . chin -- though unhappily for his subjects -- the invisible hand of the marketplace wrote a script that no human screenwriter could have hoped to match .',\n",
       " 'thurman and lewis are hilarious throughout .',\n",
       " 'the plot is so amusingly contrived and outlandish in its coincidences that no one could ever mistake it for anything resembling reality',\n",
       " \"hits one out of the park for the 'they don't make 'em like that anymore' department .\",\n",
       " 'it dares to be a little different , and that shading is what makes it worthwhile .',\n",
       " '[fessenden] is much more into ambiguity and creating mood than he is for on screen thrills',\n",
       " \"the comic performances are all spot on , especially lee ross's turn as ken .\",\n",
       " 'a compelling journey . . . and \" his best friend remembers \" is up there with the finest of specials .',\n",
       " 'at nearly three hours , the whole of safe conduct is less than the sum of its parts .',\n",
       " 'the hours makes you examine your own life in much the same way its characters do , and the experience is profound . the hours is what movies are supposed to be . . .',\n",
       " 'a bold and subversive film that cuts across the grain of what is popular and powerful in this high-tech age , speaking its truths with spellbinding imagery and the entrancing music of philip glass .',\n",
       " 'pretty darn good , despite its smarty-pants aura .',\n",
       " 'so young , so smart , such talent , such a wise * * * .',\n",
       " \"woo's fights have a distinct flair . his warriors collide in balletic explosion that implies an underlying order throughout the chaos .\",\n",
       " 'barney has created a tour de force that is weird , wacky and wonderful .',\n",
       " 'the ending does leave you unfulfilled , but these are performances to enjoy in a memorable ensemble piece .',\n",
       " \". . . an agreeable time-wasting device -- but george pal's low-tech 1960 version still rules the epochs .\",\n",
       " \"it's a brave attempt to tap into the heartbeat of the world , a salute to the universal language of rhythm and a zippy sampling of sounds .\",\n",
       " 'offers an unusual opportunity to observe the inequities in the death penalty , not just the inherent immorality but also the haphazard administration of it and public misperception of how the whole thing works .',\n",
       " \"i don't think i've been as entranced and appalled by an asian film since shinya tsukamoto's iron man .\",\n",
       " \"it is so refreshing to see robin williams turn 180 degrees from the string of insultingly innocuous and sappy fiascoes he's been making for the last several years .\",\n",
       " \"director benoit jacquot , making his first opera-to-film translation with tosca , conveys the heaving passion of puccini's famous love-jealousy- murder-suicide fandango with great cinematic innovation .\",\n",
       " \"lilia's transformation from strict mother to sensual siren is superficially preposterous , but abbas infuses the role with an unimpeachable core of emotional truth .\",\n",
       " \"frida's artistic brilliance is undeniable -- it's among the most breathtakingly designed films i've ever seen .\",\n",
       " 'the perfect film for those who like sick comedies that can be snide .',\n",
       " \"'charly' will divide its audience in two separate groups , those reaching for more tissues and those begging for mercy . . .\",\n",
       " 'nervy and sensitive , it taps into genuine artistic befuddlement , and at the same time presents a scathing indictment of what drives hollywood .',\n",
       " 'a marvellous journey from childhood idealism to adolescent self-absorption .',\n",
       " 'the film is just a big , gorgeous , mind-blowing , breath-taking mess .',\n",
       " 'sharp , lively , funny and ultimately sobering film .',\n",
       " \"though the film's scenario is certainly not earthshaking , this depiction of fluctuating female sexuality has two winning lead performances and charm to spare .\",\n",
       " \"a worthy tribute to a great humanitarian and her vibrant 'co-stars . '\",\n",
       " \"a recent favourite at sundance , this white-trash satire will inspire the affection of even those unlucky people who never owned a cassette of def leppard's pyromania .\",\n",
       " 'the recording session is the only part of the film that is enlightening -- and how appreciative you are of this depends on your level of fandom .',\n",
       " 'occasionally funny and consistently odd , and it works reasonably well as a star vehicle for zhao .',\n",
       " \"bright seems alternately amused and disgusted with this material , and he can't help throwing in a few of his own touches .\",\n",
       " \"the 3d images only enhance the film's otherworldly quality , giving it a strange combo of you-are-there closeness with the disorienting unreality of the seemingly broken-down fourth wall of the movie screen .\",\n",
       " \"andersson creates a world that's at once surreal and disturbingly familiar ; absurd , yet tremendously sad .\",\n",
       " \"it's predictable , but it jumps through the expected hoops with style and even some depth .\",\n",
       " 'often hilarious , well-shot and , importantly , entertaining , hell house is a fascinating document of an event that has to be seen to be believed .',\n",
       " 'de oliveira creates an emotionally rich , poetically plump and visually fulsome , but never showy , film whose bittersweet themes are reinforced and brilliantly personified by michel piccoli .',\n",
       " '. . . an inviting piece of film .',\n",
       " \"the film's real appeal won't be to clooney fans or adventure buffs , but to moviegoers who enjoy thinking about compelling questions with no easy answers .\",\n",
       " 'the fact that the rookie is a nearly impeccable cinematic experience -- and a wonderful all-ages triumph besides -- is a miracle akin to the story the film portrays .',\n",
       " 'a deviant topical comedy which is funny from start to finish .',\n",
       " 'a startling and fresh examination of how the bike still remains an ambiguous icon in chinese society .',\n",
       " \"a highly intriguing thriller , coupled with some ingenious plot devices and some lavishly built settings . . it's a worthwhile tutorial in quantum physics and slash-dash\",\n",
       " \"as hugh grant says repeatedly throughout the movie , 'lovely ! brilliant ! '\",\n",
       " \"cho's fearless in picking apart human foibles , not afraid to lay her life bare in front of an audience . her delivery and timing are flawless .\",\n",
       " 'works because , for the most part , it avoids the stupid cliches and formulaic potholes that befall its brethren .',\n",
       " 'at its best , the good girl is a refreshingly adult take on adultery . . .',\n",
       " 'an amazing and incendiary movie that dives straight into the rough waters of contradiction .',\n",
       " 'about nowhere kids who appropriated turfs as they found them and become self-made celebrity athletes -- a low-down version of the american dream .',\n",
       " 'occasionally , in the course of reviewing art-house obscurities and slam-bam action flicks , a jaded critic smacks into something truly new .',\n",
       " 'a miniscule little bleep on the film radar , but one that many more people should check out',\n",
       " 'desta vez , columbus capturou o pomo de ouro .',\n",
       " '\" 13 conversations \" holds its goodwill close , but is relatively slow to come to the point .',\n",
       " 'a slick , well-oiled machine , exquisitely polished and upholstered .',\n",
       " \"don't plan on the perfect ending , but sweet home alabama hits the mark with critics who escaped from a small town life .\",\n",
       " \"it has a subtle way of getting under your skin and sticking with you long after it's over .\",\n",
       " 'the movie stays afloat thanks to its hallucinatory production design .',\n",
       " 'it helps that the central performers are experienced actors , and that they know their roles so well .',\n",
       " 'a provocative movie about loss , anger , greed , jealousy , sickness and love .',\n",
       " 'worth the effort to watch .',\n",
       " 'that rara avis : the intelligent romantic comedy with actual ideas on its mind .',\n",
       " 'boisterous and daft documentary .',\n",
       " \"hawke draws out the best from his large cast in beautifully articulated portrayals that are subtle and so expressive they can sustain the poetic flights in burdette's dialogue .\",\n",
       " 'a work of the utmost subtlety and perception , it marks the outstanding feature debut of writer-director eric byler , who understands the power of the implicit and the virtues of simplicity and economy .',\n",
       " \"full frontal is the antidote for soderbergh fans who think he's gone too commercial since his two oscar nominated films in 2000\",\n",
       " 'it turns out to be a cut above the norm , thanks to some clever writing and sprightly acting .',\n",
       " \"you might not want to hang out with samantha , but you'll probably see a bit of yourself in her unfinished story .\",\n",
       " 'a work of intricate elegance , literary lyricism and profound common sense .',\n",
       " \"it's as close as we'll ever come to looking through a photographer's viewfinder as he works .\",\n",
       " 'thoughtful , provocative and entertaining .',\n",
       " 'witty , touching and well paced .',\n",
       " \"lee jeong-hyang tells it so lovingly and films it so beautifully that i couldn't help being captivated by it .\",\n",
       " \"you have to pay attention to follow all the stories , but they're each interesting . the movie is well shot and very tragic , and one to ponder after the credits roll .\",\n",
       " 'enjoy it for what it is ; you can hate yourself later .',\n",
       " \"a map of the inner rhythms of love and jealousy and sacrifice drawn with a master's steady stroke .\",\n",
       " 'más sarcástica , divertida y demencial que su predecesora , es un buen ejemplo de lo que es el cine de entretenimiento puro y sin complejos .',\n",
       " \"a psychological thriller with a smart script and an obsessive-compulsive's attention to detail .\",\n",
       " 'often hilarious .',\n",
       " 'grant gets to display his cadness to perfection , but also to show acting range that may surprise some who thought light-hearted comedy was his forte .',\n",
       " \"at times funny and at other times candidly revealing , it's an intriguing look at two performers who put themselves out there because they love what they do .\",\n",
       " \"westfeldt and juergensen exude a chemistry and comfort level that's both saucy and endearing .\",\n",
       " 'harsh , effective documentary on life in the israeli-occupied palestinian territories .',\n",
       " \"the film is all a little lit crit 101 , but it's extremely well played and often very funny .\",\n",
       " \"earns its laughs from stock redneck 'types' and from the many , many moments when we recognize even without the elizabethan prose , the play behind the thing .\",\n",
       " 'a real story about real people living their lives concerned about the future of an elderly , mentally handicapped family member .',\n",
       " \"it's absolutely spooky how lillard channels the shagster right down to the original casey kasem-furnished voice .\",\n",
       " \"a dream cast of solid female talent who build a seamless ensemble . there isn't a weak or careless performance amongst them .\",\n",
       " 'smart science fiction for grown-ups , with only a few false steps along the way .',\n",
       " \"it's a refreshing change from the self-interest and paranoia that shape most american representations of castro .\",\n",
       " \"often moving and explores the discomfort inherent in the contacts between the american 'hosts' and their 'guests . '\",\n",
       " \"though the controversial korean filmmaker's latest effort is not for all tastes , it offers gorgeous imagery , effective performances , and an increasingly unsettling sense of foreboding .\",\n",
       " 'lathan and diggs have considerable personal charm , and their screen rapport makes the old story seem new .',\n",
       " 'the story may not be new , but australian director john polson , making his american feature debut , jazzes it up adroitly .',\n",
       " \"it's endearing to hear madame d . refer to her husband as 'jackie' -- and he does make for excellent company , not least as a self-conscious performer .\",\n",
       " 'the film often achieves a mesmerizing poetry .',\n",
       " 'more than makes up for its mawkish posing by offering rousing spates of genuine feeling .',\n",
       " \"it's neither as romantic nor as thrilling as it should be . but it offers plenty to ponder and chew on as its unusual relationship slowly unfolds .\",\n",
       " 'occasionally funny , always very colorful and enjoyably overblown in the traditional almodóvar style .',\n",
       " \"merchant effectively translates naipaul's lively mix of characters from the page to screen .\",\n",
       " \"some movies are like a tasty hors-d'oeuvre ; this one is a feast .\",\n",
       " 'what could have become just another cautionary fable is allowed to play out as a clever , charming tale \\x96 as pleasantly in its own way as its self-dramatizing characters .',\n",
       " 'davis has filled out his cast with appealing fresh faces .',\n",
       " 'achieves a sort of filmic epiphany that revels in the true potential of the medium .',\n",
       " 'once you get into its rhythm . . . the movie becomes a heady experience .',\n",
       " '\" auto focus \" works as an unusual biopic and document of male swingers in the playboy era',\n",
       " \"if mr . zhang's subject matter is , to some degree at least , quintessentially american , his approach to storytelling might be called iranian .\",\n",
       " 'a fast-moving and remarkable film that appears destined to become a landmark in japanese animation .',\n",
       " '. . . a sour little movie at its core ; an exploration of the emptiness that underlay the relentless gaiety of the 1920\\'s . . . the film\\'s ending has a \" what was it all for ? \" feeling to it , but like the 1920\\'s , the trip there is a great deal of fun .',\n",
       " 'a worthy entry into a very difficult genre .',\n",
       " '[broomfield] uncovers a story powerful enough to leave the screen sizzling with intrigue .',\n",
       " \"eight crazy nights is a showcase for sandler's many talents .\",\n",
       " \"a sweet-natured reconsideration of one of san francisco's most vital , if least widely recognized , creative fountainheads .\",\n",
       " \"this is one of the most visually stunning and thematically moving epics in recent memory , and in spite of numerous minor flaws , scorsese's best in more than a decade .\",\n",
       " 'everywhere the camera looks there is something worth seeing .',\n",
       " 'a richly imagined and admirably mature work from a gifted director who definitely has something on his mind .',\n",
       " \"it's a nicely detailed world of pawns , bishops and kings , of wagers in dingy backrooms or pristine forests .\",\n",
       " \"a charming , quirky and leisurely paced scottish comedy -- except with an outrageous central gimmick that could have been a reject from monty python's meaning of life .\",\n",
       " 'it never fails to engage us .',\n",
       " \"its direction , its script , and weaver's performance as a vaguely discontented woman of substance make for a mildly entertaining 77 minutes , if that's what you're in the mood for .\",\n",
       " 'a charming romantic comedy that is by far the lightest dogme film and among the most enjoyable .',\n",
       " 'this is the kind of movie that used to be right at home at the saturday matinee , and it still is .',\n",
       " 'the spark of special anime magic here is unmistakable and hard to resist .',\n",
       " \"like its two predecessors , 1983's koyaanisqatsi and 1988's powaqqatsi , the cinematic collage naqoyqatsi could be the most navel-gazing film ever .\",\n",
       " \"baran isn't the most transporting or gripping film from iran -- or , indeed , by its director -- but it's a worthy companion to the many fine , focused films emerging from that most surprising of nations .\",\n",
       " 'the visuals alone make metropolis worth seeing .',\n",
       " 'dark , resonant , inventively detailed and packed with fleet turns of plot and a feast of visual amazement .',\n",
       " 'a picture that extols the virtues of comradeship and community in a spunky , spirited fashion .',\n",
       " 'a resonant tale of racism , revenge and retribution .',\n",
       " \"noyce's film is contemplative and mournfully reflective .\",\n",
       " 'here , adrian lyne comes as close to profundity as he is likely to get .',\n",
       " 'evokes a little of the fear that parents have for the possible futures of their children--and the sometimes bad choices mothers and fathers make in the interests of doing them good .',\n",
       " 'uno de los policiales más interesantes de los últimos tiempos .',\n",
       " 'rain is a small treasure , enveloping the viewer in a literal and spiritual torpor that is anything but cathartic .',\n",
       " 'an elegant , exquisitely modulated psychological thriller .',\n",
       " 'this concoction , so bizarre to the adult mind , is actually a charming triumph where its intended under-12 audience is concerned .',\n",
       " 'droll caper-comedy remake of \" big deal on madonna street \" that\\'s a sly , amusing , laugh-filled little gem in which the ultimate \" bellini \" begins to look like a \" real kaputschnik . \"',\n",
       " \"it's a beautifully accomplished lyrical meditation on a bunch of despondent and vulnerable characters living in the renown chelsea hotel . . .\",\n",
       " 'is it a total success ? no . is it something any true film addict will want to check out ? you bet .',\n",
       " 'zany , exuberantly irreverent animated space adventure .',\n",
       " 'dolgin and franco fashion a fascinating portrait of a vietnamese-born youngster who eagerly and easily assimilated as an all-american girl with a brand new name in southern tennessee .',\n",
       " 'the disarming cornball atmosphere has a way of infecting the entire crowd as the film rolls on .',\n",
       " 'a refreshingly honest and ultimately touching tale of the sort of people usually ignored in contemporary american film . search it out .',\n",
       " 'engrossing and affecting , if ultimately not quite satisfying .',\n",
       " 'the story , like life , refuses to be simple , and the result is a compelling slice of awkward emotions .',\n",
       " \"a sly game of cat and mouse that's intense and thrilling at times , but occasionally stretches believability to its limits and relies on predictable plot contrivances .\",\n",
       " 'funny and , at times , poignant , the film from director george hickenlooper all takes place in pasadena , \" a city where people still read . \"',\n",
       " \"this horror-comedy doesn't go for the usual obvious laughs at the expense of cheap-looking monsters -- unless you count elvira's hooters .\",\n",
       " \"the movie's eventual success should be credited to dennis quaid , in fighting trim shape as an athlete as well as an actor\",\n",
       " 'not a bad journey at all .',\n",
       " 'sits uneasily as a horror picture . . . but finds surprising depth in its look at the binds of a small family .',\n",
       " \"windtalkers blows this way and that , but there's no mistaking the filmmaker in the tall grass , true to himself .\",\n",
       " 'there is a refreshing absence of cynicism in stuart little 2--quite a rarity , even in the family film market . eventually , it wins you over .',\n",
       " 'noyce films it more as a shocking history lesson than as drama .',\n",
       " 'like a south-of-the-border melrose place .',\n",
       " 'those with an interest in new or singular sorts of film experiences will find what time is it there ? well worth the time .',\n",
       " 'a wildly funny prison caper .',\n",
       " \"huppert gives erika a persona that is so intriguing that you find yourself staring hypnotically at her , trying to understand her and wondering if she'll crack .\",\n",
       " \"despite what anyone believes about the goal of its makers , the show . . . represents a spectacular piece of theater , and there's no denying the talent of the creative forces behind it .\",\n",
       " \"you'll be left with the sensation of having just witnessed a great performance and , perhaps , give in to the urge to get on your feet and shake it .\",\n",
       " 'the actors are so terrific at conveying their young angst , we do indeed feel for them .',\n",
       " \"the reason this picture works better than its predecessors is that myers is no longer simply spoofing the mini-mod-madness of '60s spy movies .\",\n",
       " \"it is a kickass , dense sci-fi action thriller hybrid that delivers and then some . i haven't seen one in so long , no wonder i didn't recognize it at first .\",\n",
       " 'a compelling portrait of moral emptiness',\n",
       " 'in adobo , ethnicity is not just the spice , but at the heart of more universal concerns .',\n",
       " 'it is ridiculous , of course . . . but it is also refreshing , disarming , and just outright enjoyable despite its ridiculousness .',\n",
       " '. . . blade ii is more enjoyable than the original .',\n",
       " 'a film that takes you inside the rhythms of its subject : you experience it as you watch .',\n",
       " 'the movie exists for its soccer action and its fine acting .',\n",
       " 'the movie is saved from unbearable lightness by the simplicity of the storytelling and the authenticity of the performances .',\n",
       " 'the film starts out as competent but unremarkable . . . and gradually grows into something of considerable power .',\n",
       " 'nothing denis has made before , like beau travil and nenette et boni , could prepare us for this gory , perverted , sex-soaked riff on the cannibal genre .',\n",
       " 'reinforces the talents of screenwriter charlie kaufman , creator of adaptation and being john malkovich .',\n",
       " 'greene delivers a typically solid performance in a role that is a bit of a departure from the noble characters he has played in the past , and he is matched by schweig , who carries the film on his broad , handsome shoulders .',\n",
       " 'finds a way to tell a simple story , perhaps the simplest story of all , in a way that seems compelling and even original .',\n",
       " \"a stunning piece of visual poetry that will , hopefully , be remembered as one of the most important stories to be told in australia's film history .\",\n",
       " 'this is art paying homage to art .',\n",
       " '. . . a joke at once flaky and resonant , lightweight and bizarrely original .',\n",
       " 'invincible is a wonderful movie .',\n",
       " '. . . a cute and sometimes side-splittingly funny blend of legally blonde and drop dead gorgeous , starring piper perabo in what could be her breakthrough role .',\n",
       " 'dazzling and sugar-sweet , a blast of shallow magnificence that only sex , scandal , and a chorus line of dangerous damsels can deliver .',\n",
       " 'occasionally amateurishly made but a winsome cast and nice dialogue keeps it going .',\n",
       " \"japan's premier stylist of sex and blood hits audiences with what may be his most demented film to date .\",\n",
       " \"culkin , who's in virtually every scene , shines as a young man who uses sarcastic lies like a shield .\",\n",
       " 'cuts right through the b . s . giving a big middle-fingered \" shut up \" to those who talk up what is nothing more than two guys beating the hell outta one another .',\n",
       " 'the am-radio soundtrack and game cast -- tierney and the inimitable walken especially -- keep this unusual comedy from choking on its own conceit .',\n",
       " \". . . does such a fine job of engulfing you in its world and allying you with its characters' choices , good and ill , that its shortcomings are remembered only as an afterthought .\",\n",
       " 'marvelous , merry and , yes , melancholy film .',\n",
       " \"from spiritual rebirth to bruising defeat , vincent's odyssey resonates in a profound way , comparable to the classic films of jean renoir .\",\n",
       " 'novak manages to capture a cruelly hilarious vein of black comedy in the situation with his cast of non-actors and a gritty , no-budget approach .',\n",
       " 'insomnia is involving . still , i thought it could have been more .',\n",
       " \"there was time on that second round to see the subtleties of ramsay's portrait of grief .\",\n",
       " 'we can see the wheels turning , and we might resent it sometimes , but this is still a nice little picture , made by bright and friendly souls with a lot of good cheer .',\n",
       " 'a comprehensive and provocative film -- one that pushes the boundaries of biography , and challenges its audience .',\n",
       " 'the way coppola professes his love for movies -- both colorful pop junk and the classics that unequivocally qualify as art -- is giddily entertaining .',\n",
       " 'a modest masterpiece .',\n",
       " 'a worthwhile way to spend two hours .',\n",
       " \"francophiles will snicker knowingly and you'll want to slap them .\",\n",
       " 'sensitive , insightful and beautifully rendered film . one of the best of the year .',\n",
       " 'a love for films shines through each frame and the era is recreated with obvious affection , scored to perfection with some tasty boogaloo beats .',\n",
       " 'throwing caution to the wind with an invitation to the hedonist in us all , nair has constructed this motion picture in such a way that even the most cynical curmudgeon with find himself or herself smiling at one time or another .',\n",
       " \"makes an aborbing if arguable case for the man's greatness .\",\n",
       " 'an endlessly fascinating , landmark movie that is as bold as anything the cinema has seen in years .',\n",
       " '. . . a haunting vision , with images that seem more like disturbing hallucinations .',\n",
       " \"they crush each other under cars , throw each other out windows , electrocute and dismember their victims in full consciousness . and we don't avert our eyes for a moment .\",\n",
       " 'it is not a mass-market entertainment but an uncompromising attempt by one artist to think about another .',\n",
       " \"frailty isn't as gory or explicit . but in its child-centered , claustrophobic context , it can be just as frightening and disturbing -- even punishing .\",\n",
       " 'mixes likeable personalities , inventive photography and cutting , and wall-to-wall toe-tapping music to paint a picture of a subculture that is at once exhilarating , silly , perverse , hopeful and always fun .',\n",
       " 'the long-range appeal of \" minority report \" should transcend any awards it bags . this is one for the ages .',\n",
       " \"[a] superbly controlled , passionate adaptation of graham greene's 1955 novel .\",\n",
       " 'much monkeyfun for all .',\n",
       " \"an enchanting film that presents an audacious tour of the past and takes within its warm embrace the bounties of cultural artifacts inside st . petersburg's hermitage museum .\",\n",
       " \"[hawn's character]is so bluntly written , without a trace of sentimentality , and so blisteringly defined , that every other character seems overlooked and underwritten .\",\n",
       " 'the heightened symmetry of this new/old cinema paradiso makes the film a fuller experience , like an old friend haunted by the exigencies of time .',\n",
       " \"the powers team has fashioned a comedy with more laughs than many , no question . but this time there's some mold on the gold .\",\n",
       " 'while surprisingly sincere , this average little story is adorned with some awesome action photography and surfing .',\n",
       " 'it is far from the worst , thanks to the topical issues it raises , the performances of stewart and hardy , and that essential feature -- a decent full-on space battle .',\n",
       " 'a film that is a portrait of grace in an imperfect world .',\n",
       " 'a pleasurably jacked-up piece of action moviemaking .',\n",
       " 'nicolas philibert observes life inside a one-room schoolhouse in northern france in his documentary to be and to have , easily one of the best films of the year .',\n",
       " 'a perverse little truffle , dainty psychological terror on the outside with a creamy filling of familial jealousy and unrepentant domestic psychopathy .',\n",
       " 'this ecologically minded , wildlife friendly film teaches good ethics while entertaining with its unconventionally wacky but loving family',\n",
       " 'an enjoyably half-wit remake of the venerable italian comedy big deal on madonna street .',\n",
       " 'it takes this never-ending confusion and hatred , puts a human face on it , evokes shame among all who are party to it and even promotes understanding .',\n",
       " \"reign of fire may be little more than another platter of reheated aliens , but it's still pretty tasty .\",\n",
       " 'there are times when a rumor of angels plays like an extended episode of touched by an angel -- a little too much dancing , a few too many weeping scenes -- but i liked its heart and its spirit .',\n",
       " \"two hours of melodramatic musical married to two hours of underdog sports intrigue , if the picture also shares the weaknesses of both genres , more's the pity .\",\n",
       " 'this cheery , down-to-earth film is warm with the cozy feeling of relaxing around old friends .',\n",
       " 'thrilling , provocative and darkly funny , this timely sci-fi mystery works on so many different levels that it not only invites , it demands repeated viewings .',\n",
       " \"a tale of horror and revenge that is nearly perfect in its relentless descent to the depths of one man's tortured soul .\",\n",
       " \"an epic of grandeur and scale that's been decades gone from the popcorn pushing sound stages of hollywood .\",\n",
       " \"genuinely touching because it's realistic about all kinds of love .\",\n",
       " 'lauren ambrose comes alive under the attention from two strangers in town - with honest performances and realistic interaction between the characters , this is a coming-of-age story with a twist .',\n",
       " 'there has been much puzzlement among critics about what the election symbolizes . i believe the message is in the messenger : the agent is a woman .',\n",
       " 'an enjoyable film for the family , amusing and cute for both adults and kids .',\n",
       " '\" the mothman prophecies \" is a difficult film to shake from your conscience when night falls .',\n",
       " 'the second chapter of the harry potter series is even more magical than the first and simply the best family film of the year .',\n",
       " \"more honest about alzheimer's disease , i think , than iris .\",\n",
       " 'the acting alone is worth the price of admission .',\n",
       " 'an excellent romp that boasts both a heart and a mind .',\n",
       " \"interacting eyeball-to-eyeball and toe-to-toe , hopkins and norton are a winning combination -- but fiennes steals 'red dragon' right from under their noses .\",\n",
       " 'this is a terrific character study , a probe into the life of a complex man .',\n",
       " 'impresses you with its open-endedness and surprises .',\n",
       " \"this isn't a narrative film -- i don't know if it's possible to make a narrative film about september 11th , though i'm sure some will try -- but it's as close as anyone has dared to come .\",\n",
       " 'my oh my , is this an invigorating , electric movie .',\n",
       " 'the two leads chomp considerably more scenery with their acting than fire-breathing monsters barbecue with their breath . . .',\n",
       " 'cedar takes a very open-minded approach to this sensitive material , showing impressive control , both visually and in the writing .',\n",
       " 'never once predictable .',\n",
       " 'biggie and tupac is so single-mindedly daring , it puts far more polished documentaries to shame .',\n",
       " 'so many documentaries like this presuppose religious bigotry or zealous nuttiness of its antagonists , but family fundamentals displays a rare gift for unflinching impartiality .',\n",
       " 'the cast is uniformly excellent and relaxed .',\n",
       " \"after making several adaptations of other writers' work , armenian-canadian director atom egoyan broached an original treatment of a deeply personal subject .\",\n",
       " 'the film is painfully authentic , and the performances of the young players are utterly convincing .',\n",
       " \"if it seems like a minor miracle that its septuagenarian star is young enough to be the nonagenarian filmmaker's son , more incredible still are the clear-eyed boldness and quiet irony with which actor and director take on life's urgent questions .\",\n",
       " 'a candid and often fascinating documentary about a pentecostal church in dallas that assembles an elaborate haunted house each year to scare teenagers into attending services .',\n",
       " 'fans of the animated wildlife adventure show will be in warthog heaven ; others need not necessarily apply .',\n",
       " 'without resorting to hyperbole , i can state that kissing jessica stein may be the best same-sex romance i have seen .',\n",
       " 'nolan bravely treads where few american films dare to delve -- into the world of ambivalence and ambiguity . . .',\n",
       " \"unlike the nauseating fictions peddled by such 'have-yourself-a-happy-little-holocaust' movies as life is beautiful and jakob the liar , the grey zone is honest enough to deny the possibility of hope in auschwitz .\",\n",
       " 'a potent allegorical love story .',\n",
       " 'even those who would like to dismiss the film outright should find much to mull and debate .',\n",
       " 'this is cool , slick stuff , ready to quench the thirst of an audience that misses the summer blockbusters .',\n",
       " 'the movie is full of fine performances , led by josef bierbichler as brecht and monica bleibtreu as helene weigel , his wife .',\n",
       " 'a captivating cross-cultural comedy of manners .',\n",
       " 'andy garcia enjoys one of his richest roles in years and mick jagger gives his best movie performance since , well , performance .',\n",
       " \"the movie isn't always easy to look at . but if it is indeed a duty of art to reflect life , than leigh has created a masterful piece of artistry right here .\",\n",
       " \"it's [ricci's] best work yet , this girl-woman who sincerely believes she can thwart the world's misery with blind good will .\",\n",
       " 'highlights are the terrific performances by christopher plummer , as the prime villain , and nathan lane as vincent crummles , the eccentric theater company manager .',\n",
       " '[howard] so good as leon barlow . . . that he hardly seems to be acting .',\n",
       " 'an uplifting , near-masterpiece .',\n",
       " 'superior genre storytelling , which gets under our skin simply by crossing the nuclear line .',\n",
       " 'by taking entertainment tonight subject matter and giving it humor and poignancy , auto focus becomes both gut-bustingly funny and crushingly depressing .',\n",
       " \"it's a bittersweet and lyrical mix of elements .\",\n",
       " 'subversive , meditative , clinical and poetic , the piano teacher is a daring work of genius .',\n",
       " ...]"
      ]
     },
     "execution_count": 24,
     "metadata": {},
     "output_type": "execute_result"
    }
   ],
   "source": [
    "dataset[\"text\"]"
   ]
  },
  {
   "cell_type": "code",
   "execution_count": 25,
   "metadata": {},
   "outputs": [
    {
     "data": {
      "text/plain": [
       "'the rock is destined to be the 21st century\\'s new \" conan \" and that he\\'s going to make a splash even greater than arnold schwarzenegger , jean-claud van damme or steven segal .'"
      ]
     },
     "execution_count": 25,
     "metadata": {},
     "output_type": "execute_result"
    }
   ],
   "source": [
    "dataset[0][\"text\"]"
   ]
  },
  {
   "cell_type": "code",
   "execution_count": 26,
   "metadata": {},
   "outputs": [
    {
     "data": {
      "text/plain": [
       "'the rock is destined to be the 21st century\\'s new \" conan \" and that he\\'s going to make a splash even greater than arnold schwarzenegger , jean-claud van damme or steven segal .'"
      ]
     },
     "execution_count": 26,
     "metadata": {},
     "output_type": "execute_result"
    }
   ],
   "source": [
    "dataset[\"text\"][0]"
   ]
  },
  {
   "cell_type": "code",
   "execution_count": 27,
   "metadata": {},
   "outputs": [
    {
     "data": {
      "application/vnd.jupyter.widget-view+json": {
       "model_id": "77424a10a7244bb789c9199fe082159a",
       "version_major": 2,
       "version_minor": 0
      },
      "text/plain": [
       "README.md:   0%|          | 0.00/10.5k [00:00<?, ?B/s]"
      ]
     },
     "metadata": {},
     "output_type": "display_data"
    }
   ],
   "source": [
    "iterable_dataset = load_dataset(\n",
    "    \"ethz/food101\", split=\"train\", streaming=True, trust_remote_code=True\n",
    ")"
   ]
  },
  {
   "cell_type": "code",
   "execution_count": 30,
   "metadata": {},
   "outputs": [
    {
     "data": {
      "text/plain": [
       "{'image': <PIL.Image.Image image mode=RGB size=384x512>, 'label': 6}"
      ]
     },
     "execution_count": 30,
     "metadata": {},
     "output_type": "execute_result"
    }
   ],
   "source": [
    "next(iter(iterable_dataset))"
   ]
  },
  {
   "cell_type": "code",
   "execution_count": 31,
   "metadata": {},
   "outputs": [],
   "source": [
    "from datasets import load_dataset"
   ]
  },
  {
   "cell_type": "code",
   "execution_count": 33,
   "metadata": {},
   "outputs": [],
   "source": [
    "dataset = load_dataset(\"cornell-movie-review-data/rotten_tomatoes\", split=\"train\")\n",
    "iterable_dataset = dataset.to_iterable_dataset()"
   ]
  },
  {
   "cell_type": "code",
   "execution_count": null,
   "metadata": {},
   "outputs": [],
   "source": []
  }
 ],
 "metadata": {
  "kernelspec": {
   "display_name": "Python 3",
   "language": "python",
   "name": "python3"
  },
  "language_info": {
   "codemirror_mode": {
    "name": "ipython",
    "version": 3
   },
   "file_extension": ".py",
   "mimetype": "text/x-python",
   "name": "python",
   "nbconvert_exporter": "python",
   "pygments_lexer": "ipython3",
   "version": "3.12.11"
  }
 },
 "nbformat": 4,
 "nbformat_minor": 0
}
